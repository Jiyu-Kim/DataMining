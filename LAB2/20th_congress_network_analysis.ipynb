{
  "nbformat": 4,
  "nbformat_minor": 0,
  "metadata": {
    "colab": {
      "provenance": []
    },
    "kernelspec": {
      "name": "python3",
      "display_name": "Python 3"
    },
    "language_info": {
      "name": "python"
    }
  },
  "cells": [
    {
      "cell_type": "markdown",
      "metadata": {
        "id": "a3GP0MyCQqis"
      },
      "source": [
        "# Python packages for graph analysis"
      ]
    },
    {
      "cell_type": "code",
      "metadata": {
        "colab": {
          "base_uri": "https://localhost:8080/",
          "height": 0
        },
        "id": "-QxadgqTO2uk",
        "outputId": "09932d95-330c-466f-c0a5-b75d3a959a6b"
      },
      "source": [
        "!pip install networkx "
      ],
      "execution_count": 1,
      "outputs": [
        {
          "output_type": "stream",
          "name": "stdout",
          "text": [
            "Looking in indexes: https://pypi.org/simple, https://us-python.pkg.dev/colab-wheels/public/simple/\n",
            "Requirement already satisfied: networkx in /usr/local/lib/python3.10/dist-packages (3.1)\n"
          ]
        }
      ]
    },
    {
      "cell_type": "code",
      "metadata": {
        "id": "vcrC1TDoO8r_"
      },
      "source": [
        "import networkx as nx\n",
        "import pandas as pd\n",
        "from pandas import DataFrame, Series\n",
        "import numpy as np"
      ],
      "execution_count": 2,
      "outputs": []
    },
    {
      "cell_type": "markdown",
      "metadata": {
        "id": "oynVArGKQyAT"
      },
      "source": [
        "# Dataset"
      ]
    },
    {
      "cell_type": "code",
      "metadata": {
        "id": "gw0mlsiBPF_4",
        "colab": {
          "base_uri": "https://localhost:8080/",
          "height": 416
        },
        "outputId": "ce15717f-d932-4e10-ae6c-8a7890fe6630"
      },
      "source": [
        "df_suggest = pd.read_csv('suggest_20.csv', encoding='euc-kr')\n",
        "df_suggest.head(3)"
      ],
      "execution_count": 5,
      "outputs": [
        {
          "output_type": "execute_result",
          "data": {
            "text/plain": [
              "                              BILL_ID  BILL_NO       BILL_NAME      COMMITTEE  \\\n",
              "0  PRC_B1A6Z0N7H2Q6C1C0D3N0Q5K6S5U4Y2  2001183          집단소송법안        법제사법위원회   \n",
              "1  PRC_A1B9W1O1O0B8Z1N8C4Z1M4D0E5S3J4  2023701    수산업법 일부개정법률안  농림축산식품해양수산위원회   \n",
              "2  PRC_G1C6M0U8R1O1O0A9C4G1S1I3M7J8J4  2001532  자동차관리법 일부개정법률안        국토교통위원회   \n",
              "\n",
              "   PROPOSE_DT PROC_RESULT  AGE  \\\n",
              "0  2016-07-26      임기만료폐기   20   \n",
              "1  2019-11-08      대안반영폐기   20   \n",
              "2  2016-08-11      임기만료폐기   20   \n",
              "\n",
              "                                         DETAIL_LINK     PROPOSER  \\\n",
              "0  http://likms.assembly.go.kr/bill/billDetail.do...  박영선의원 등 46인   \n",
              "1  http://likms.assembly.go.kr/bill/billDetail.do...  박주현의원 등 10인   \n",
              "2  http://likms.assembly.go.kr/bill/billDetail.do...  임종성의원 등 11인   \n",
              "\n",
              "                                         MEMBER_LIST RST_PROPOSER  \\\n",
              "0  http://likms.assembly.go.kr/bill/coactorListPo...          박영선   \n",
              "1  http://likms.assembly.go.kr/bill/coactorListPo...          박주현   \n",
              "2  http://likms.assembly.go.kr/bill/coactorListPo...          임종성   \n",
              "\n",
              "                                       PUBL_PROPOSER keyword  COMMITTEE_index  \\\n",
              "0  강훈식,기동민,김경수,김두관,김병욱,김상희,김성수,김영주,김영춘,김종민,김종인,김현...    집단소송                0   \n",
              "1                강석진,경대수,김성찬,손금주,손혜원,오영훈,윤준호,이양수,황주홍     수산업                1   \n",
              "2            강병원,김경협,김병욱,김철민,민홍철,소병훈,안호영,윤후덕,전현희,최경환  자동차관리법                2   \n",
              "\n",
              "   BILL_index  \n",
              "0           0  \n",
              "1           1  \n",
              "2           2  "
            ],
            "text/html": [
              "\n",
              "  <div id=\"df-a948990a-d65e-4363-9ec3-c80d81529bf2\">\n",
              "    <div class=\"colab-df-container\">\n",
              "      <div>\n",
              "<style scoped>\n",
              "    .dataframe tbody tr th:only-of-type {\n",
              "        vertical-align: middle;\n",
              "    }\n",
              "\n",
              "    .dataframe tbody tr th {\n",
              "        vertical-align: top;\n",
              "    }\n",
              "\n",
              "    .dataframe thead th {\n",
              "        text-align: right;\n",
              "    }\n",
              "</style>\n",
              "<table border=\"1\" class=\"dataframe\">\n",
              "  <thead>\n",
              "    <tr style=\"text-align: right;\">\n",
              "      <th></th>\n",
              "      <th>BILL_ID</th>\n",
              "      <th>BILL_NO</th>\n",
              "      <th>BILL_NAME</th>\n",
              "      <th>COMMITTEE</th>\n",
              "      <th>PROPOSE_DT</th>\n",
              "      <th>PROC_RESULT</th>\n",
              "      <th>AGE</th>\n",
              "      <th>DETAIL_LINK</th>\n",
              "      <th>PROPOSER</th>\n",
              "      <th>MEMBER_LIST</th>\n",
              "      <th>RST_PROPOSER</th>\n",
              "      <th>PUBL_PROPOSER</th>\n",
              "      <th>keyword</th>\n",
              "      <th>COMMITTEE_index</th>\n",
              "      <th>BILL_index</th>\n",
              "    </tr>\n",
              "  </thead>\n",
              "  <tbody>\n",
              "    <tr>\n",
              "      <th>0</th>\n",
              "      <td>PRC_B1A6Z0N7H2Q6C1C0D3N0Q5K6S5U4Y2</td>\n",
              "      <td>2001183</td>\n",
              "      <td>집단소송법안</td>\n",
              "      <td>법제사법위원회</td>\n",
              "      <td>2016-07-26</td>\n",
              "      <td>임기만료폐기</td>\n",
              "      <td>20</td>\n",
              "      <td>http://likms.assembly.go.kr/bill/billDetail.do...</td>\n",
              "      <td>박영선의원 등 46인</td>\n",
              "      <td>http://likms.assembly.go.kr/bill/coactorListPo...</td>\n",
              "      <td>박영선</td>\n",
              "      <td>강훈식,기동민,김경수,김두관,김병욱,김상희,김성수,김영주,김영춘,김종민,김종인,김현...</td>\n",
              "      <td>집단소송</td>\n",
              "      <td>0</td>\n",
              "      <td>0</td>\n",
              "    </tr>\n",
              "    <tr>\n",
              "      <th>1</th>\n",
              "      <td>PRC_A1B9W1O1O0B8Z1N8C4Z1M4D0E5S3J4</td>\n",
              "      <td>2023701</td>\n",
              "      <td>수산업법 일부개정법률안</td>\n",
              "      <td>농림축산식품해양수산위원회</td>\n",
              "      <td>2019-11-08</td>\n",
              "      <td>대안반영폐기</td>\n",
              "      <td>20</td>\n",
              "      <td>http://likms.assembly.go.kr/bill/billDetail.do...</td>\n",
              "      <td>박주현의원 등 10인</td>\n",
              "      <td>http://likms.assembly.go.kr/bill/coactorListPo...</td>\n",
              "      <td>박주현</td>\n",
              "      <td>강석진,경대수,김성찬,손금주,손혜원,오영훈,윤준호,이양수,황주홍</td>\n",
              "      <td>수산업</td>\n",
              "      <td>1</td>\n",
              "      <td>1</td>\n",
              "    </tr>\n",
              "    <tr>\n",
              "      <th>2</th>\n",
              "      <td>PRC_G1C6M0U8R1O1O0A9C4G1S1I3M7J8J4</td>\n",
              "      <td>2001532</td>\n",
              "      <td>자동차관리법 일부개정법률안</td>\n",
              "      <td>국토교통위원회</td>\n",
              "      <td>2016-08-11</td>\n",
              "      <td>임기만료폐기</td>\n",
              "      <td>20</td>\n",
              "      <td>http://likms.assembly.go.kr/bill/billDetail.do...</td>\n",
              "      <td>임종성의원 등 11인</td>\n",
              "      <td>http://likms.assembly.go.kr/bill/coactorListPo...</td>\n",
              "      <td>임종성</td>\n",
              "      <td>강병원,김경협,김병욱,김철민,민홍철,소병훈,안호영,윤후덕,전현희,최경환</td>\n",
              "      <td>자동차관리법</td>\n",
              "      <td>2</td>\n",
              "      <td>2</td>\n",
              "    </tr>\n",
              "  </tbody>\n",
              "</table>\n",
              "</div>\n",
              "      <button class=\"colab-df-convert\" onclick=\"convertToInteractive('df-a948990a-d65e-4363-9ec3-c80d81529bf2')\"\n",
              "              title=\"Convert this dataframe to an interactive table.\"\n",
              "              style=\"display:none;\">\n",
              "        \n",
              "  <svg xmlns=\"http://www.w3.org/2000/svg\" height=\"24px\"viewBox=\"0 0 24 24\"\n",
              "       width=\"24px\">\n",
              "    <path d=\"M0 0h24v24H0V0z\" fill=\"none\"/>\n",
              "    <path d=\"M18.56 5.44l.94 2.06.94-2.06 2.06-.94-2.06-.94-.94-2.06-.94 2.06-2.06.94zm-11 1L8.5 8.5l.94-2.06 2.06-.94-2.06-.94L8.5 2.5l-.94 2.06-2.06.94zm10 10l.94 2.06.94-2.06 2.06-.94-2.06-.94-.94-2.06-.94 2.06-2.06.94z\"/><path d=\"M17.41 7.96l-1.37-1.37c-.4-.4-.92-.59-1.43-.59-.52 0-1.04.2-1.43.59L10.3 9.45l-7.72 7.72c-.78.78-.78 2.05 0 2.83L4 21.41c.39.39.9.59 1.41.59.51 0 1.02-.2 1.41-.59l7.78-7.78 2.81-2.81c.8-.78.8-2.07 0-2.86zM5.41 20L4 18.59l7.72-7.72 1.47 1.35L5.41 20z\"/>\n",
              "  </svg>\n",
              "      </button>\n",
              "      \n",
              "  <style>\n",
              "    .colab-df-container {\n",
              "      display:flex;\n",
              "      flex-wrap:wrap;\n",
              "      gap: 12px;\n",
              "    }\n",
              "\n",
              "    .colab-df-convert {\n",
              "      background-color: #E8F0FE;\n",
              "      border: none;\n",
              "      border-radius: 50%;\n",
              "      cursor: pointer;\n",
              "      display: none;\n",
              "      fill: #1967D2;\n",
              "      height: 32px;\n",
              "      padding: 0 0 0 0;\n",
              "      width: 32px;\n",
              "    }\n",
              "\n",
              "    .colab-df-convert:hover {\n",
              "      background-color: #E2EBFA;\n",
              "      box-shadow: 0px 1px 2px rgba(60, 64, 67, 0.3), 0px 1px 3px 1px rgba(60, 64, 67, 0.15);\n",
              "      fill: #174EA6;\n",
              "    }\n",
              "\n",
              "    [theme=dark] .colab-df-convert {\n",
              "      background-color: #3B4455;\n",
              "      fill: #D2E3FC;\n",
              "    }\n",
              "\n",
              "    [theme=dark] .colab-df-convert:hover {\n",
              "      background-color: #434B5C;\n",
              "      box-shadow: 0px 1px 3px 1px rgba(0, 0, 0, 0.15);\n",
              "      filter: drop-shadow(0px 1px 2px rgba(0, 0, 0, 0.3));\n",
              "      fill: #FFFFFF;\n",
              "    }\n",
              "  </style>\n",
              "\n",
              "      <script>\n",
              "        const buttonEl =\n",
              "          document.querySelector('#df-a948990a-d65e-4363-9ec3-c80d81529bf2 button.colab-df-convert');\n",
              "        buttonEl.style.display =\n",
              "          google.colab.kernel.accessAllowed ? 'block' : 'none';\n",
              "\n",
              "        async function convertToInteractive(key) {\n",
              "          const element = document.querySelector('#df-a948990a-d65e-4363-9ec3-c80d81529bf2');\n",
              "          const dataTable =\n",
              "            await google.colab.kernel.invokeFunction('convertToInteractive',\n",
              "                                                     [key], {});\n",
              "          if (!dataTable) return;\n",
              "\n",
              "          const docLinkHtml = 'Like what you see? Visit the ' +\n",
              "            '<a target=\"_blank\" href=https://colab.research.google.com/notebooks/data_table.ipynb>data table notebook</a>'\n",
              "            + ' to learn more about interactive tables.';\n",
              "          element.innerHTML = '';\n",
              "          dataTable['output_type'] = 'display_data';\n",
              "          await google.colab.output.renderOutput(dataTable, element);\n",
              "          const docLink = document.createElement('div');\n",
              "          docLink.innerHTML = docLinkHtml;\n",
              "          element.appendChild(docLink);\n",
              "        }\n",
              "      </script>\n",
              "    </div>\n",
              "  </div>\n",
              "  "
            ]
          },
          "metadata": {},
          "execution_count": 5
        }
      ]
    },
    {
      "cell_type": "code",
      "metadata": {
        "id": "6oLndYeBQWih",
        "colab": {
          "base_uri": "https://localhost:8080/",
          "height": 143
        },
        "outputId": "a2c3cd22-77a0-465e-bbc8-b7eafab91074"
      },
      "source": [
        "df_ppl = pd.read_csv('people_20.csv', encoding='euc-kr')\n",
        "df_ppl.head(3)"
      ],
      "execution_count": 6,
      "outputs": [
        {
          "output_type": "execute_result",
          "data": {
            "text/plain": [
              "   번호  대수  의원명      정당  소속위원회               지역 성별 당선횟수 당선방법  party_index\n",
              "0   1  20  강길부     무소속    NaN           울산 울주군  남   4선  지역구            0\n",
              "1   2  20  강병원  더불어민주당    NaN          서울 은평구을  남   재선  지역구            1\n",
              "2   3  20  강석진    새누리당    NaN  경남 산청군함양군거창군합천군  남   초선  지역구            2"
            ],
            "text/html": [
              "\n",
              "  <div id=\"df-74f6cd44-d2e2-4e04-bf5c-e029e9ae45f2\">\n",
              "    <div class=\"colab-df-container\">\n",
              "      <div>\n",
              "<style scoped>\n",
              "    .dataframe tbody tr th:only-of-type {\n",
              "        vertical-align: middle;\n",
              "    }\n",
              "\n",
              "    .dataframe tbody tr th {\n",
              "        vertical-align: top;\n",
              "    }\n",
              "\n",
              "    .dataframe thead th {\n",
              "        text-align: right;\n",
              "    }\n",
              "</style>\n",
              "<table border=\"1\" class=\"dataframe\">\n",
              "  <thead>\n",
              "    <tr style=\"text-align: right;\">\n",
              "      <th></th>\n",
              "      <th>번호</th>\n",
              "      <th>대수</th>\n",
              "      <th>의원명</th>\n",
              "      <th>정당</th>\n",
              "      <th>소속위원회</th>\n",
              "      <th>지역</th>\n",
              "      <th>성별</th>\n",
              "      <th>당선횟수</th>\n",
              "      <th>당선방법</th>\n",
              "      <th>party_index</th>\n",
              "    </tr>\n",
              "  </thead>\n",
              "  <tbody>\n",
              "    <tr>\n",
              "      <th>0</th>\n",
              "      <td>1</td>\n",
              "      <td>20</td>\n",
              "      <td>강길부</td>\n",
              "      <td>무소속</td>\n",
              "      <td>NaN</td>\n",
              "      <td>울산 울주군</td>\n",
              "      <td>남</td>\n",
              "      <td>4선</td>\n",
              "      <td>지역구</td>\n",
              "      <td>0</td>\n",
              "    </tr>\n",
              "    <tr>\n",
              "      <th>1</th>\n",
              "      <td>2</td>\n",
              "      <td>20</td>\n",
              "      <td>강병원</td>\n",
              "      <td>더불어민주당</td>\n",
              "      <td>NaN</td>\n",
              "      <td>서울 은평구을</td>\n",
              "      <td>남</td>\n",
              "      <td>재선</td>\n",
              "      <td>지역구</td>\n",
              "      <td>1</td>\n",
              "    </tr>\n",
              "    <tr>\n",
              "      <th>2</th>\n",
              "      <td>3</td>\n",
              "      <td>20</td>\n",
              "      <td>강석진</td>\n",
              "      <td>새누리당</td>\n",
              "      <td>NaN</td>\n",
              "      <td>경남 산청군함양군거창군합천군</td>\n",
              "      <td>남</td>\n",
              "      <td>초선</td>\n",
              "      <td>지역구</td>\n",
              "      <td>2</td>\n",
              "    </tr>\n",
              "  </tbody>\n",
              "</table>\n",
              "</div>\n",
              "      <button class=\"colab-df-convert\" onclick=\"convertToInteractive('df-74f6cd44-d2e2-4e04-bf5c-e029e9ae45f2')\"\n",
              "              title=\"Convert this dataframe to an interactive table.\"\n",
              "              style=\"display:none;\">\n",
              "        \n",
              "  <svg xmlns=\"http://www.w3.org/2000/svg\" height=\"24px\"viewBox=\"0 0 24 24\"\n",
              "       width=\"24px\">\n",
              "    <path d=\"M0 0h24v24H0V0z\" fill=\"none\"/>\n",
              "    <path d=\"M18.56 5.44l.94 2.06.94-2.06 2.06-.94-2.06-.94-.94-2.06-.94 2.06-2.06.94zm-11 1L8.5 8.5l.94-2.06 2.06-.94-2.06-.94L8.5 2.5l-.94 2.06-2.06.94zm10 10l.94 2.06.94-2.06 2.06-.94-2.06-.94-.94-2.06-.94 2.06-2.06.94z\"/><path d=\"M17.41 7.96l-1.37-1.37c-.4-.4-.92-.59-1.43-.59-.52 0-1.04.2-1.43.59L10.3 9.45l-7.72 7.72c-.78.78-.78 2.05 0 2.83L4 21.41c.39.39.9.59 1.41.59.51 0 1.02-.2 1.41-.59l7.78-7.78 2.81-2.81c.8-.78.8-2.07 0-2.86zM5.41 20L4 18.59l7.72-7.72 1.47 1.35L5.41 20z\"/>\n",
              "  </svg>\n",
              "      </button>\n",
              "      \n",
              "  <style>\n",
              "    .colab-df-container {\n",
              "      display:flex;\n",
              "      flex-wrap:wrap;\n",
              "      gap: 12px;\n",
              "    }\n",
              "\n",
              "    .colab-df-convert {\n",
              "      background-color: #E8F0FE;\n",
              "      border: none;\n",
              "      border-radius: 50%;\n",
              "      cursor: pointer;\n",
              "      display: none;\n",
              "      fill: #1967D2;\n",
              "      height: 32px;\n",
              "      padding: 0 0 0 0;\n",
              "      width: 32px;\n",
              "    }\n",
              "\n",
              "    .colab-df-convert:hover {\n",
              "      background-color: #E2EBFA;\n",
              "      box-shadow: 0px 1px 2px rgba(60, 64, 67, 0.3), 0px 1px 3px 1px rgba(60, 64, 67, 0.15);\n",
              "      fill: #174EA6;\n",
              "    }\n",
              "\n",
              "    [theme=dark] .colab-df-convert {\n",
              "      background-color: #3B4455;\n",
              "      fill: #D2E3FC;\n",
              "    }\n",
              "\n",
              "    [theme=dark] .colab-df-convert:hover {\n",
              "      background-color: #434B5C;\n",
              "      box-shadow: 0px 1px 3px 1px rgba(0, 0, 0, 0.15);\n",
              "      filter: drop-shadow(0px 1px 2px rgba(0, 0, 0, 0.3));\n",
              "      fill: #FFFFFF;\n",
              "    }\n",
              "  </style>\n",
              "\n",
              "      <script>\n",
              "        const buttonEl =\n",
              "          document.querySelector('#df-74f6cd44-d2e2-4e04-bf5c-e029e9ae45f2 button.colab-df-convert');\n",
              "        buttonEl.style.display =\n",
              "          google.colab.kernel.accessAllowed ? 'block' : 'none';\n",
              "\n",
              "        async function convertToInteractive(key) {\n",
              "          const element = document.querySelector('#df-74f6cd44-d2e2-4e04-bf5c-e029e9ae45f2');\n",
              "          const dataTable =\n",
              "            await google.colab.kernel.invokeFunction('convertToInteractive',\n",
              "                                                     [key], {});\n",
              "          if (!dataTable) return;\n",
              "\n",
              "          const docLinkHtml = 'Like what you see? Visit the ' +\n",
              "            '<a target=\"_blank\" href=https://colab.research.google.com/notebooks/data_table.ipynb>data table notebook</a>'\n",
              "            + ' to learn more about interactive tables.';\n",
              "          element.innerHTML = '';\n",
              "          dataTable['output_type'] = 'display_data';\n",
              "          await google.colab.output.renderOutput(dataTable, element);\n",
              "          const docLink = document.createElement('div');\n",
              "          docLink.innerHTML = docLinkHtml;\n",
              "          element.appendChild(docLink);\n",
              "        }\n",
              "      </script>\n",
              "    </div>\n",
              "  </div>\n",
              "  "
            ]
          },
          "metadata": {},
          "execution_count": 6
        }
      ]
    },
    {
      "cell_type": "markdown",
      "metadata": {
        "id": "qqqJ3882Q3A0"
      },
      "source": [
        "# Create an undirected graph\n",
        "- nodes: 20대 국회의원\n",
        "- edges: 대표 발의자 - 공동 발의자"
      ]
    },
    {
      "cell_type": "code",
      "metadata": {
        "id": "5F0H5OvUQczR"
      },
      "source": [
        "from collections import defaultdict\n",
        "\n",
        "edges = [] #edges_ = [('박영선', '강훈식'), ... ,('박영선', '최인호'), ('박주현', '강석진'), ... ,('박주현', '경대수'), ...,(대표발의자, 공동발의자)] \n",
        "edge_bill_idx = defaultdict(list) #edge_bill_idx = {('박영선', '강훈식'): [0,60], ... ,(대표발의자, 공동발의자): [입법발의안 인덱스]}\n",
        "\n",
        "num_data = df_suggest.shape[0]\n",
        "for i in range(num_data):\n",
        "\n",
        "  rst_propersor = df_suggest.RST_PROPOSER.iloc[i] #입법발의안 대표발의자 국회의원\n",
        "  publ_proposers = df_suggest.PUBL_PROPOSER.iloc[i].split(',') #입볍발의안 공동발의자 국회의원 리스트\n",
        "  bill_idx = df_suggest.BILL_index.iloc[i] #입법발의안 인덱스\n",
        "\n",
        "  for publ_proposer in publ_proposers:\n",
        "    edge_ = (rst_propersor, publ_proposer)\n",
        "    edges.append(edge_)\n",
        "    edge_bill_idx[edge_].append(bill_idx) #동일한 대표발의자와 공동발의자가 여러번 입법발의안을 발의한 경우 존재\n",
        "\n",
        "\n",
        "edge_weight = {edge_: len(bill_idx) for edge_, bill_idx in edge_bill_idx.items()} #대표발의자와 공동발의자 관계로 발의한 발의안 개수를 가중치로 사용\n",
        "\n",
        "g =  nx.Graph(edges)"
      ],
      "execution_count": 7,
      "outputs": []
    },
    {
      "cell_type": "code",
      "metadata": {
        "id": "ksZ1Mnjb6KLD",
        "colab": {
          "base_uri": "https://localhost:8080/",
          "height": 0
        },
        "outputId": "960b0f4d-40b7-4049-aa4e-d77f2bab1166"
      },
      "source": [
        "edges[:5] #list of edges"
      ],
      "execution_count": 9,
      "outputs": [
        {
          "output_type": "execute_result",
          "data": {
            "text/plain": [
              "[('박영선', '강훈식'),\n",
              " ('박영선', '기동민'),\n",
              " ('박영선', '김경수'),\n",
              " ('박영선', '김두관'),\n",
              " ('박영선', '김병욱')]"
            ]
          },
          "metadata": {},
          "execution_count": 9
        }
      ]
    },
    {
      "cell_type": "code",
      "metadata": {
        "id": "AXUIWPa_wD1B"
      },
      "source": [
        "edge_bill_idx #dict of edge attribute using edge tuple as key and bill_index list as value"
      ],
      "execution_count": null,
      "outputs": []
    },
    {
      "cell_type": "code",
      "metadata": {
        "id": "qYilJjnQDb1g"
      },
      "source": [
        "edge_weight #dict if edge attribute(weight) using edge tuple as key and the number of bill_index as value "
      ],
      "execution_count": null,
      "outputs": []
    },
    {
      "cell_type": "code",
      "metadata": {
        "id": "BZBldq6caPkC"
      },
      "source": [
        "g.nodes"
      ],
      "execution_count": null,
      "outputs": []
    },
    {
      "cell_type": "code",
      "metadata": {
        "id": "ZrnJ3Tt7bGsi"
      },
      "source": [
        "g.edges"
      ],
      "execution_count": null,
      "outputs": []
    },
    {
      "cell_type": "code",
      "metadata": {
        "colab": {
          "base_uri": "https://localhost:8080/",
          "height": 0
        },
        "id": "mcm7jowqbOvH",
        "outputId": "481760d9-46e9-4c4d-cd67-7b6ecdaf9ce2"
      },
      "source": [
        "len(g.nodes)"
      ],
      "execution_count": 18,
      "outputs": [
        {
          "output_type": "execute_result",
          "data": {
            "text/plain": [
              "318"
            ]
          },
          "metadata": {},
          "execution_count": 18
        }
      ]
    },
    {
      "cell_type": "code",
      "metadata": {
        "id": "sg1QvB8PbQlC",
        "colab": {
          "base_uri": "https://localhost:8080/",
          "height": 0
        },
        "outputId": "44d86247-d727-4e3a-cbeb-10a3e0396d1c"
      },
      "source": [
        "len(g.edges)"
      ],
      "execution_count": 19,
      "outputs": [
        {
          "output_type": "execute_result",
          "data": {
            "text/plain": [
              "11889"
            ]
          },
          "metadata": {},
          "execution_count": 19
        }
      ]
    },
    {
      "cell_type": "code",
      "metadata": {
        "id": "WezNk8Wnbe0p"
      },
      "source": [
        "g.degree()"
      ],
      "execution_count": null,
      "outputs": []
    },
    {
      "cell_type": "markdown",
      "metadata": {
        "id": "kARhc0VKRMo2"
      },
      "source": [
        "## Add attributes to nodes and edges"
      ]
    },
    {
      "cell_type": "markdown",
      "metadata": {
        "id": "C5-s1whBRSse"
      },
      "source": [
        "### Node attribute (party_index)\n",
        "- suggest_20.csv를 기반으로 그래프를 그리면 동명이인을 구분하지 못하므로 노드의 개수가 2개 줄어든다.\n",
        "- people_20.csv를 기반으로 그래프 노드에 특성을 추가하면 노드의 개수(318)와 특성의 개수(320)가 맞지 않아 에러가 발생한다.\n",
        "- 동명이인 중 한 명을 무작위로 제거하여 node와 node attribute를 맞춘다.(한계점)"
      ]
    },
    {
      "cell_type": "code",
      "metadata": {
        "id": "4em8sB_dbp33"
      },
      "source": [
        "df_ppl = df_ppl.drop_duplicates(['의원명']) #동명이인 중 한명을 무작위로 제거해서 node와 node attribute를 맞춘다(한계점)\n",
        "nx.set_node_attributes(g, df_ppl.set_index('의원명')['party_index'], 'party_index')"
      ],
      "execution_count": 34,
      "outputs": []
    },
    {
      "cell_type": "code",
      "metadata": {
        "colab": {
          "base_uri": "https://localhost:8080/",
          "height": 0
        },
        "id": "ErXbbEI4cvJa",
        "outputId": "6071096e-05d1-4bc2-f825-3981a3555b6b"
      },
      "source": [
        "list(g.nodes.data())[:10]"
      ],
      "execution_count": 31,
      "outputs": [
        {
          "output_type": "execute_result",
          "data": {
            "text/plain": [
              "[('박영선', {'party_index': 1}),\n",
              " ('강훈식', {'party_index': 1}),\n",
              " ('기동민', {'party_index': 1}),\n",
              " ('김경수', {'party_index': 1}),\n",
              " ('김두관', {'party_index': 1}),\n",
              " ('김병욱', {'party_index': 1}),\n",
              " ('김상희', {'party_index': 1}),\n",
              " ('김성수', {'party_index': 1}),\n",
              " ('김영주', {'party_index': 1}),\n",
              " ('김영춘', {'party_index': 1})]"
            ]
          },
          "metadata": {},
          "execution_count": 31
        }
      ]
    },
    {
      "cell_type": "markdown",
      "metadata": {
        "id": "1W1BHtRwRbDp"
      },
      "source": [
        "### Edge attribute(*BILL_index*)"
      ]
    },
    {
      "cell_type": "code",
      "metadata": {
        "id": "I8no0ns0qCPo"
      },
      "source": [
        "#nx.set_edge_attributes(g, edge_bill_idx, 'bill_index')\n",
        "nx.set_edge_attributes(g, edge_weight, 'weight')"
      ],
      "execution_count": 32,
      "outputs": []
    },
    {
      "cell_type": "code",
      "metadata": {
        "colab": {
          "base_uri": "https://localhost:8080/",
          "height": 0
        },
        "id": "vEzrVbxR6m5c",
        "outputId": "3f83fb24-95d2-453a-ca20-1dc126e2a202"
      },
      "source": [
        "list(g.edges.data())[:10]"
      ],
      "execution_count": 33,
      "outputs": [
        {
          "output_type": "execute_result",
          "data": {
            "text/plain": [
              "[('박영선', '강훈식', {'weight': 2}),\n",
              " ('박영선', '기동민', {'weight': 1}),\n",
              " ('박영선', '김경수', {'weight': 1}),\n",
              " ('박영선', '김두관', {'weight': 2}),\n",
              " ('박영선', '김병욱', {'weight': 1}),\n",
              " ('박영선', '김상희', {'weight': 2}),\n",
              " ('박영선', '김성수', {'weight': 2}),\n",
              " ('박영선', '김영주', {'weight': 2}),\n",
              " ('박영선', '김영춘', {'weight': 1}),\n",
              " ('박영선', '김종민', {'weight': 3})]"
            ]
          },
          "metadata": {},
          "execution_count": 33
        }
      ]
    },
    {
      "cell_type": "markdown",
      "metadata": {
        "id": "0mpS9o-kRh3P"
      },
      "source": [
        "# Analyze a graph"
      ]
    },
    {
      "cell_type": "code",
      "metadata": {
        "id": "jeKFo0oChMWj"
      },
      "source": [
        "random_g = nx.erdos_renyi_graph(318, 0.2, directed=False)"
      ],
      "execution_count": 35,
      "outputs": []
    },
    {
      "cell_type": "code",
      "metadata": {
        "colab": {
          "base_uri": "https://localhost:8080/",
          "height": 0
        },
        "id": "EHp1qYw9heMg",
        "outputId": "eb05afe8-a2b9-4b75-88a5-1840b4cb2ea6"
      },
      "source": [
        "len(random_g.nodes)"
      ],
      "execution_count": 36,
      "outputs": [
        {
          "output_type": "execute_result",
          "data": {
            "text/plain": [
              "318"
            ]
          },
          "metadata": {},
          "execution_count": 36
        }
      ]
    },
    {
      "cell_type": "code",
      "metadata": {
        "colab": {
          "base_uri": "https://localhost:8080/",
          "height": 0
        },
        "id": "UQGB4I41hncr",
        "outputId": "1d231cc1-a74b-4ffa-af7d-017cb8a08140"
      },
      "source": [
        "len(random_g.edges())"
      ],
      "execution_count": 37,
      "outputs": [
        {
          "output_type": "execute_result",
          "data": {
            "text/plain": [
              "9849"
            ]
          },
          "metadata": {},
          "execution_count": 37
        }
      ]
    },
    {
      "cell_type": "code",
      "metadata": {
        "colab": {
          "base_uri": "https://localhost:8080/",
          "height": 490
        },
        "id": "0waXkwpz24Dh",
        "outputId": "c5f47eeb-ca01-4575-fc12-249df3404449"
      },
      "source": [
        "import matplotlib.pyplot as plt\n",
        "#random graph\n",
        "random_degrees = dict(random_g.degree())\n",
        "random_degree_values = sorted(set(random_degrees.values()))\n",
        "random_hist = [list(random_degrees.values()).count(x) for x in random_degree_values]\n",
        "\n",
        "#real graph\n",
        "degrees = dict(g.degree())\n",
        "degree_values = sorted(set(degrees.values()))\n",
        "hist = [list(degrees.values()).count(x) for x in degree_values]\n",
        "\n",
        "plt.figure()\n",
        "plt.grid(True) #간격표시\n",
        "plt.plot(random_degree_values, random_hist, 'ro-')\n",
        "plt.plot(degree_values, hist,'bo-')\n",
        "plt.plot()\n",
        "plt.legend(['random','real'])\n",
        "plt.xlabel('Degree')\n",
        "plt.ylabel('# of nodes')\n",
        "plt.title('Degree Distribution')\n",
        "plt.xlim([0,2*10**2])\n",
        "\n",
        "plt.close\n"
      ],
      "execution_count": 38,
      "outputs": [
        {
          "output_type": "execute_result",
          "data": {
            "text/plain": [
              "<function matplotlib.pyplot.close(fig=None)>"
            ]
          },
          "metadata": {},
          "execution_count": 38
        },
        {
          "output_type": "display_data",
          "data": {
            "text/plain": [
              "<Figure size 640x480 with 1 Axes>"
            ],
            "image/png": "[encoded data removed]"
          },
          "metadata": {}
        }
      ]
    },
    {
      "cell_type": "markdown",
      "metadata": {
        "id": "csicbgMP8ahs"
      },
      "source": [
        "### clustering coefficient"
      ]
    },
    {
      "cell_type": "code",
      "metadata": {
        "colab": {
          "base_uri": "https://localhost:8080/",
          "height": 0
        },
        "id": "gm48-Uem8mEO",
        "outputId": "38d43afa-94f6-49f3-aeba-b37b694b53c6"
      },
      "source": [
        "#random graph\n",
        "random_cc = dict(nx.clustering(random_g))\n",
        "random_cc_values = sorted(set(random_cc.values()))\n",
        "avg_random_cc = sum(random_cc.values())/len(random_cc)\n",
        "\n",
        "#real graph\n",
        "cc = dict(nx.clustering(g))\n",
        "cc_values = sorted(set(cc.values()))\n",
        "avg_cc = sum(cc.values())/len(cc)\n",
        "print(\"Avg of random graph: %.3f\\nAvg of real graph: %.3f\"%(avg_random_cc, avg_cc))\n"
      ],
      "execution_count": 39,
      "outputs": [
        {
          "output_type": "stream",
          "name": "stdout",
          "text": [
            "Avg of random graph: 0.194\n",
            "Avg of real graph: 0.528\n"
          ]
        }
      ]
    },
    {
      "cell_type": "markdown",
      "metadata": {
        "id": "4_P2OERHPQmr"
      },
      "source": [
        "### Page Rank"
      ]
    },
    {
      "cell_type": "code",
      "metadata": {
        "id": "HQefnC4cOhrL"
      },
      "source": [
        "#node centrality의 상위 top개의 node를 반환\n",
        "def get_top_keys(_dict_data, top):\n",
        "  top_rank = sorted(_dict_data.items(), key=lambda x:x[1], reverse=True)\n",
        "  return top_rank[:top]"
      ],
      "execution_count": 40,
      "outputs": []
    },
    {
      "cell_type": "code",
      "metadata": {
        "id": "DeyYCARZ7atB",
        "colab": {
          "base_uri": "https://localhost:8080/",
          "height": 0
        },
        "outputId": "6722625f-c0fa-4ea8-f439-f0d6146bb04a"
      },
      "source": [
        "pagerank = nx.pagerank(g)\n",
        "pagerank_top = get_top_keys(dict(pagerank), 10)\n",
        "pagerank_top"
      ],
      "execution_count": 41,
      "outputs": [
        {
          "output_type": "execute_result",
          "data": {
            "text/plain": [
              "[('황주홍', 0.012813764930828645),\n",
              " ('이찬열', 0.008904489804496886),\n",
              " ('김성태', 0.008014802856531876),\n",
              " ('김도읍', 0.007995885577198316),\n",
              " ('박홍근', 0.007299286377166949),\n",
              " ('신창현', 0.006883795133562444),\n",
              " ('박정', 0.00661954785735438),\n",
              " ('이완영', 0.006170517435222764),\n",
              " ('김관영', 0.005969245229685283),\n",
              " ('서영교', 0.005938253070507875)]"
            ]
          },
          "metadata": {},
          "execution_count": 41
        }
      ]
    },
    {
      "cell_type": "markdown",
      "metadata": {
        "id": "cg5dQuM-PUfw"
      },
      "source": [
        "### Node Centrality\n",
        "- degree centrality: 연결된 node가 많을 수록 크다.\n",
        "- closeness centrality: 모든 node와의 거리가 가까울수록 크다.\n",
        "- betweenness centrality: 노드 간의 경로에 위치해 있을수록 크다.\n",
        "- eigenvector centrality: 큰 네트워크와 연결되어 있을수록 크다."
      ]
    },
    {
      "cell_type": "code",
      "metadata": {
        "id": "pc9OvDphQrIq",
        "colab": {
          "base_uri": "https://localhost:8080/",
          "height": 0
        },
        "outputId": "078244cb-c007-49f3-af61-29c37e690dbc"
      },
      "source": [
        " #degree centrality\n",
        " degree_centrality = nx.degree_centrality(g)\n",
        " degree_centrality_top = get_top_keys(dict(degree_centrality), 10)\n",
        " degree_centrality_top"
      ],
      "execution_count": 42,
      "outputs": [
        {
          "output_type": "execute_result",
          "data": {
            "text/plain": [
              "[('박홍근', 0.5520504731861199),\n",
              " ('이철희', 0.5457413249211356),\n",
              " ('안민석', 0.4700315457413249),\n",
              " ('김성태', 0.45425867507886436),\n",
              " ('황주홍', 0.4479495268138801),\n",
              " ('서영교', 0.444794952681388),\n",
              " ('이찬열', 0.4416403785488959),\n",
              " ('박주민', 0.43217665615141954),\n",
              " ('이완영', 0.42902208201892744),\n",
              " ('노웅래', 0.41640378548895896)]"
            ]
          },
          "metadata": {},
          "execution_count": 42
        }
      ]
    },
    {
      "cell_type": "code",
      "metadata": {
        "id": "zYL3jU1lQ3Le",
        "colab": {
          "base_uri": "https://localhost:8080/",
          "height": 0
        },
        "outputId": "6a51d7a6-4e43-4427-f016-7ccceda55208"
      },
      "source": [
        "#closeness centrality\n",
        "closeness_centrality = nx.closeness_centrality(g)\n",
        "closeness_centrality_top = get_top_keys(dict(closeness_centrality), 10)\n",
        "closeness_centrality_top"
      ],
      "execution_count": 43,
      "outputs": [
        {
          "output_type": "execute_result",
          "data": {
            "text/plain": [
              "[('이철희', 0.6802575107296137),\n",
              " ('박홍근', 0.6788008565310493),\n",
              " ('안민석', 0.6522633744855967),\n",
              " ('황주홍', 0.6430020283975659),\n",
              " ('서영교', 0.6417004048582996),\n",
              " ('이찬열', 0.6417004048582996),\n",
              " ('김성태', 0.6404040404040404),\n",
              " ('박주민', 0.6352705410821643),\n",
              " ('이완영', 0.6327345309381237),\n",
              " ('노웅래', 0.6302186878727635)]"
            ]
          },
          "metadata": {},
          "execution_count": 43
        }
      ]
    },
    {
      "cell_type": "code",
      "metadata": {
        "id": "611OBRaRQ7Ka",
        "colab": {
          "base_uri": "https://localhost:8080/",
          "height": 0
        },
        "outputId": "883ec9dc-7be2-4f09-e0af-971e64950770"
      },
      "source": [
        " #betweenness centrality\n",
        " betweenness_centrality = nx.betweenness_centrality(g, normalized=True)\n",
        " betweenness_centrality_top = get_top_keys(betweenness_centrality, 10)\n",
        " betweenness_centrality_top"
      ],
      "execution_count": 44,
      "outputs": [
        {
          "output_type": "execute_result",
          "data": {
            "text/plain": [
              "[('황주홍', 0.01443408821977514),\n",
              " ('최인호', 0.013774154705553043),\n",
              " ('김현아', 0.013086621458916115),\n",
              " ('박홍근', 0.012291116973838235),\n",
              " ('이철희', 0.011520104243502107),\n",
              " ('김성태', 0.011421128035130528),\n",
              " ('이찬열', 0.01136141827497521),\n",
              " ('이완영', 0.010655921535207306),\n",
              " ('나경원', 0.010337628648949061),\n",
              " ('정병국', 0.009781770126644466)]"
            ]
          },
          "metadata": {},
          "execution_count": 44
        }
      ]
    },
    {
      "cell_type": "code",
      "metadata": {
        "id": "wcAMHAUfRCxu",
        "colab": {
          "base_uri": "https://localhost:8080/",
          "height": 0
        },
        "outputId": "2e761f4d-1beb-4b7c-f517-d4f2042edd2f"
      },
      "source": [
        " #eigenvector centrality\n",
        " eigenvector_centrality = nx.eigenvector_centrality(g)\n",
        " eigenvector_centrality_top = get_top_keys(eigenvector_centrality, 10)\n",
        " eigenvector_centrality_top"
      ],
      "execution_count": 45,
      "outputs": [
        {
          "output_type": "execute_result",
          "data": {
            "text/plain": [
              "[('박홍근', 0.13317967311719),\n",
              " ('이철희', 0.1314222380273776),\n",
              " ('안민석', 0.11970980260871608),\n",
              " ('서영교', 0.11275662992291673),\n",
              " ('박주민', 0.11134321155679315),\n",
              " ('박정', 0.10771201405645915),\n",
              " ('우원식', 0.10581442678314361),\n",
              " ('송옥주', 0.10538280172635694),\n",
              " ('노웅래', 0.10494080780532102),\n",
              " ('김해영', 0.10380752840454716)]"
            ]
          },
          "metadata": {},
          "execution_count": 45
        }
      ]
    },
    {
      "cell_type": "markdown",
      "metadata": {
        "id": "rG_yE2yRPaKX"
      },
      "source": [
        "### Community\n",
        "- Girvan Newman algorithm for community detection\n",
        "  - Hierarhcical clustering based on edges betweenness\n",
        "  - Selecting number k of communities\n",
        "  - Pick k so that **modularity**(a measure of how well a network is partitioned into communitites) at k is maximized"
      ]
    },
    {
      "cell_type": "code",
      "metadata": {
        "id": "9KEUcACHRI29"
      },
      "source": [
        "from networkx.algorithms import community\n",
        "comp = community.girvan_newman(g)"
      ],
      "execution_count": 46,
      "outputs": []
    },
    {
      "cell_type": "code",
      "metadata": {
        "id": "K4U_kDKZRKuO"
      },
      "source": [
        "communities = tuple(sorted(c) for c in next(comp))"
      ],
      "execution_count": 47,
      "outputs": []
    },
    {
      "cell_type": "code",
      "metadata": {
        "colab": {
          "base_uri": "https://localhost:8080/",
          "height": 0
        },
        "id": "Etse24W4RNao",
        "outputId": "9c3a2808-d2e1-4c66-8917-c3ac5f202b64"
      },
      "source": [
        "for i, comm_nodes in enumerate(communities):\n",
        "  print(\"Community {}th\".format(i))\n",
        "  print(comm_nodes, end ='\\n')"
      ],
      "execution_count": 48,
      "outputs": [
        {
          "output_type": "stream",
          "name": "stdout",
          "text": [
            "Community 0th\n",
            "['강길부', '강병원', '강석진', '강석호', '강창일', '강효상', '강훈식', '경대수', '고용진', '곽대훈', '곽상도', '권미혁', '권석창', '권성동', '권은희', '권칠승', '금태섭', '기동민', '김경수', '김경진', '김경협', '김관영', '김광림', '김광수', '김규환', '김기선', '김도읍', '김동철', '김두관', '김명연', '김무성', '김민기', '김병관', '김병기', '김병욱', '김부겸', '김삼화', '김상훈', '김상희', '김석기', '김선동', '김성수', '김성식', '김성원', '김성찬', '김성태', '김성환', '김세연', '김수민', '김순례', '김승희', '김영우', '김영주', '김영진', '김영춘', '김영호', '김용태', '김재경', '김재원', '김정우', '김정재', '김정호', '김정훈', '김종대', '김종민', '김종석', '김종태', '김종회', '김종훈', '김중로', '김진태', '김진표', '김철민', '김태년', '김태흠', '김학용', '김한정', '김한표', '김해영', '김현권', '김현미', '김현아', '나경원', '남인순', '노웅래', '노회찬', '도종환', '맹성규', '문미옥', '문진국', '문희상', '민경욱', '민병두', '민홍철', '박경미', '박광온', '박남춘', '박대출', '박덕흠', '박맹우', '박명재', '박범계', '박병석', '박선숙', '박성중', '박순자', '박영선', '박완수', '박완주', '박용진', '박인숙', '박재호', '박정', '박주민', '박주선', '박주현', '박준영', '박지원', '박찬대', '박찬우', '박홍근', '배덕광', '백승주', '백재현', '백혜련', '변재일', '서삼석', '서영교', '서청원', '서형수', '설훈', '성일종', '소병훈', '손금주', '손혜원', '송갑석', '송기석', '송기헌', '송석준', '송언석', '송영길', '송옥주', '송희경', '신경민', '신동근', '신보라', '신상진', '신용현', '신창현', '심기준', '심상정', '심재권', '심재철', '안규백', '안민석', '안상수', '안철수', '안호영', '양승조', '어기구', '엄용수', '여상규', '여영국', '염동열', '오세정', '오신환', '오영훈', '오제세', '우상호', '우원식', '원유철', '원혜영', '위성곤', '유기준', '유동수', '유민봉', '유성엽', '유승민', '유승희', '유은혜', '유의동', '유재중', '윤관석', '윤상직', '윤상현', '윤소하', '윤영석', '윤영일', '윤일규', '윤재옥', '윤종오', '윤종필', '윤준호', '윤한홍', '윤호중', '윤후덕', '이개호', '이군현', '이규희', '이동섭', '이만희', '이명수', '이상돈', '이상민', '이상헌', '이석현', '이수혁', '이양수', '이언주', '이완영', '이용득', '이용주', '이용호', '이우현', '이원욱', '이은권', '이은재', '이인영', '이장우', '이재정', '이정미', '이정현', '이종걸', '이종구', '이종명', '이종배', '이주영', '이진복', '이찬열', '이채익', '이철규', '이철우', '이철희', '이춘석', '이태규', '이학영', '이학재', '이해찬', '이헌승', '이현재', '이혜훈', '이후삼', '이훈', '인재근', '임이자', '임재훈', '임종성', '장병완', '장석춘', '장정숙', '장제원', '전재수', '전해철', '전현희', '전혜숙', '전희경', '정갑윤', '정동영', '정병국', '정성호', '정세균', '정양석', '정용기', '정우택', '정운천', '정유섭', '정은혜', '정인화', '정재호', '정점식', '정종섭', '정진석', '정춘숙', '정태옥', '제윤경', '조경태', '조배숙', '조승래', '조원진', '조응천', '조정식', '조훈현', '주광덕', '주승용', '주호영', '지상욱', '진선미', '진영', '채이배', '천정배', '최경환', '최교일', '최도자', '최명길', '최연혜', '최운열', '최인호', '최재성', '추경호', '추미애', '추혜선', '표창원', '하태경', '한선교', '한정애', '함진규', '허윤정', '홍문종', '홍문표', '홍영표', '홍의락', '홍익표', '홍일표', '홍철호', '황영철', '황주홍', '황희']\n",
            "Community 1th\n",
            "['김종인']\n"
          ]
        }
      ]
    },
    {
      "cell_type": "markdown",
      "metadata": {
        "id": "-q261QpTRrq_"
      },
      "source": [
        "# Draw a graph"
      ]
    },
    {
      "cell_type": "code",
      "metadata": {
        "id": "zl9WVwBv7i-Q"
      },
      "source": [
        "nx.write_graphml_lxml(g, \"assembly.graphml\", infer_numeric_types=True)"
      ],
      "execution_count": 49,
      "outputs": []
    }
  ]
}