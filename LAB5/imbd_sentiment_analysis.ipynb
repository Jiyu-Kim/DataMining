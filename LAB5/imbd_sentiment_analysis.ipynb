{
  "nbformat": 4,
  "nbformat_minor": 0,
  "metadata": {
    "colab": {
      "provenance": [],
      "toc_visible": true
    },
    "kernelspec": {
      "name": "python3",
      "display_name": "Python 3"
    },
    "language_info": {
      "name": "python"
    },
    "widgets": {
      "application/vnd.jupyter.widget-state+json": {
        "6e8ff83a89a9413983c2ee9de28b255d": {
          "model_module": "@jupyter-widgets/controls",
          "model_name": "HBoxModel",
          "state": {
            "_view_name": "HBoxView",
            "_dom_classes": [],
            "_model_name": "HBoxModel",
            "_view_module": "@jupyter-widgets/controls",
            "_model_module_version": "1.5.0",
            "_view_count": null,
            "_view_module_version": "1.5.0",
            "box_style": "",
            "layout": "IPY_MODEL_7f4f328f406e44c98b09483e67b616c5",
            "_model_module": "@jupyter-widgets/controls",
            "children": [
              "IPY_MODEL_9f873f0d1d0444799a46f73c569a1554",
              "IPY_MODEL_97f34b2b83bc4c03a48a832dbea5ab93"
            ]
          },
          "model_module_version": "1.5.0"
        },
        "7f4f328f406e44c98b09483e67b616c5": {
          "model_module": "@jupyter-widgets/base",
          "model_name": "LayoutModel",
          "state": {
            "_view_name": "LayoutView",
            "grid_template_rows": null,
            "right": null,
            "justify_content": null,
            "_view_module": "@jupyter-widgets/base",
            "overflow": null,
            "_model_module_version": "1.2.0",
            "_view_count": null,
            "flex_flow": null,
            "width": null,
            "min_width": null,
            "border": null,
            "align_items": null,
            "bottom": null,
            "_model_module": "@jupyter-widgets/base",
            "top": null,
            "grid_column": null,
            "overflow_y": null,
            "overflow_x": null,
            "grid_auto_flow": null,
            "grid_area": null,
            "grid_template_columns": null,
            "flex": null,
            "_model_name": "LayoutModel",
            "justify_items": null,
            "grid_row": null,
            "max_height": null,
            "align_content": null,
            "visibility": null,
            "align_self": null,
            "height": null,
            "min_height": null,
            "padding": null,
            "grid_auto_rows": null,
            "grid_gap": null,
            "max_width": null,
            "order": null,
            "_view_module_version": "1.2.0",
            "grid_template_areas": null,
            "object_position": null,
            "object_fit": null,
            "grid_auto_columns": null,
            "margin": null,
            "display": null,
            "left": null
          },
          "model_module_version": "1.2.0"
        },
        "9f873f0d1d0444799a46f73c569a1554": {
          "model_module": "@jupyter-widgets/controls",
          "model_name": "FloatProgressModel",
          "state": {
            "_view_name": "ProgressView",
            "style": "IPY_MODEL_e2dc7839b9d74ed89c2cf324bfd1669b",
            "_dom_classes": [],
            "description": "100%",
            "_model_name": "FloatProgressModel",
            "bar_style": "success",
            "max": 9,
            "_view_module": "@jupyter-widgets/controls",
            "_model_module_version": "1.5.0",
            "value": 9,
            "_view_count": null,
            "_view_module_version": "1.5.0",
            "orientation": "horizontal",
            "min": 0,
            "description_tooltip": null,
            "_model_module": "@jupyter-widgets/controls",
            "layout": "IPY_MODEL_7ca838d75158445c92412a88e416a51d"
          },
          "model_module_version": "1.5.0"
        },
        "97f34b2b83bc4c03a48a832dbea5ab93": {
          "model_module": "@jupyter-widgets/controls",
          "model_name": "HTMLModel",
          "state": {
            "_view_name": "HTMLView",
            "style": "IPY_MODEL_617b33d47148496bbd5d3fc21651ec83",
            "_dom_classes": [],
            "description": "",
            "_model_name": "HTMLModel",
            "placeholder": "​",
            "_view_module": "@jupyter-widgets/controls",
            "_model_module_version": "1.5.0",
            "value": " 9/9 [02:14&lt;00:00, 14.92s/it]",
            "_view_count": null,
            "_view_module_version": "1.5.0",
            "description_tooltip": null,
            "_model_module": "@jupyter-widgets/controls",
            "layout": "IPY_MODEL_25091b91ddb844cca9e9681be7d620c8"
          },
          "model_module_version": "1.5.0"
        },
        "e2dc7839b9d74ed89c2cf324bfd1669b": {
          "model_module": "@jupyter-widgets/controls",
          "model_name": "ProgressStyleModel",
          "state": {
            "_view_name": "StyleView",
            "_model_name": "ProgressStyleModel",
            "description_width": "initial",
            "_view_module": "@jupyter-widgets/base",
            "_model_module_version": "1.5.0",
            "_view_count": null,
            "_view_module_version": "1.2.0",
            "bar_color": null,
            "_model_module": "@jupyter-widgets/controls"
          },
          "model_module_version": "1.5.0"
        },
        "7ca838d75158445c92412a88e416a51d": {
          "model_module": "@jupyter-widgets/base",
          "model_name": "LayoutModel",
          "state": {
            "_view_name": "LayoutView",
            "grid_template_rows": null,
            "right": null,
            "justify_content": null,
            "_view_module": "@jupyter-widgets/base",
            "overflow": null,
            "_model_module_version": "1.2.0",
            "_view_count": null,
            "flex_flow": null,
            "width": null,
            "min_width": null,
            "border": null,
            "align_items": null,
            "bottom": null,
            "_model_module": "@jupyter-widgets/base",
            "top": null,
            "grid_column": null,
            "overflow_y": null,
            "overflow_x": null,
            "grid_auto_flow": null,
            "grid_area": null,
            "grid_template_columns": null,
            "flex": null,
            "_model_name": "LayoutModel",
            "justify_items": null,
            "grid_row": null,
            "max_height": null,
            "align_content": null,
            "visibility": null,
            "align_self": null,
            "height": null,
            "min_height": null,
            "padding": null,
            "grid_auto_rows": null,
            "grid_gap": null,
            "max_width": null,
            "order": null,
            "_view_module_version": "1.2.0",
            "grid_template_areas": null,
            "object_position": null,
            "object_fit": null,
            "grid_auto_columns": null,
            "margin": null,
            "display": null,
            "left": null
          },
          "model_module_version": "1.2.0"
        },
        "617b33d47148496bbd5d3fc21651ec83": {
          "model_module": "@jupyter-widgets/controls",
          "model_name": "DescriptionStyleModel",
          "state": {
            "_view_name": "StyleView",
            "_model_name": "DescriptionStyleModel",
            "description_width": "",
            "_view_module": "@jupyter-widgets/base",
            "_model_module_version": "1.5.0",
            "_view_count": null,
            "_view_module_version": "1.2.0",
            "_model_module": "@jupyter-widgets/controls"
          },
          "model_module_version": "1.5.0"
        },
        "25091b91ddb844cca9e9681be7d620c8": {
          "model_module": "@jupyter-widgets/base",
          "model_name": "LayoutModel",
          "state": {
            "_view_name": "LayoutView",
            "grid_template_rows": null,
            "right": null,
            "justify_content": null,
            "_view_module": "@jupyter-widgets/base",
            "overflow": null,
            "_model_module_version": "1.2.0",
            "_view_count": null,
            "flex_flow": null,
            "width": null,
            "min_width": null,
            "border": null,
            "align_items": null,
            "bottom": null,
            "_model_module": "@jupyter-widgets/base",
            "top": null,
            "grid_column": null,
            "overflow_y": null,
            "overflow_x": null,
            "grid_auto_flow": null,
            "grid_area": null,
            "grid_template_columns": null,
            "flex": null,
            "_model_name": "LayoutModel",
            "justify_items": null,
            "grid_row": null,
            "max_height": null,
            "align_content": null,
            "visibility": null,
            "align_self": null,
            "height": null,
            "min_height": null,
            "padding": null,
            "grid_auto_rows": null,
            "grid_gap": null,
            "max_width": null,
            "order": null,
            "_view_module_version": "1.2.0",
            "grid_template_areas": null,
            "object_position": null,
            "object_fit": null,
            "grid_auto_columns": null,
            "margin": null,
            "display": null,
            "left": null
          },
          "model_module_version": "1.2.0"
        }
      }
    }
  },
  "cells": [
    {
      "cell_type": "code",
      "metadata": {
        "id": "9QfXT7lcYauK"
      },
      "source": [
        "import pandas as pd\n",
        "import numpy as np\n",
        "import math\n",
        "import warnings\n",
        "warnings.simplefilter(action='ignore', category=FutureWarning)\n",
        "random_seed = 2020"
      ],
      "execution_count": null,
      "outputs": []
    },
    {
      "cell_type": "code",
      "metadata": {
        "colab": {
          "base_uri": "https://localhost:8080/"
        },
        "id": "an-14LaKYgvg",
        "outputId": "f437a302-9221-4ee5-9ee5-f810b6b15a5e"
      },
      "source": [
        "from google.colab import drive\n",
        "drive.mount('/content/drive')"
      ],
      "execution_count": null,
      "outputs": [
        {
          "output_type": "stream",
          "text": [
            "Mounted at /content/drive\n"
          ],
          "name": "stdout"
        }
      ]
    },
    {
      "cell_type": "code",
      "metadata": {
        "id": "wLSN7xcVYrhc"
      },
      "source": [
        "import xgboost as xgb"
      ],
      "execution_count": null,
      "outputs": []
    },
    {
      "cell_type": "markdown",
      "metadata": {
        "id": "N9sVlFOYY1cV"
      },
      "source": [
        "#Case 1: Text Sentiment Classification\n",
        "\n",
        "\n",
        "*   inputs:  imdb 영화 리뷰\n",
        "*   outputs: 긍정(1), 부정(0)\n",
        "\n"
      ]
    },
    {
      "cell_type": "markdown",
      "metadata": {
        "id": "xbW8Z2VfZZXJ"
      },
      "source": [
        "#Load dataset"
      ]
    },
    {
      "cell_type": "code",
      "metadata": {
        "id": "cPAgcXgvYyAJ"
      },
      "source": [
        "filepath = '/content/drive/MyDrive/데이터마이닝/LAB5/week12_ml/week12_ml/dataset/imdb_dataset.txt'"
      ],
      "execution_count": null,
      "outputs": []
    },
    {
      "cell_type": "code",
      "metadata": {
        "colab": {
          "base_uri": "https://localhost:8080/"
        },
        "id": "SqPe7RvYZpiN",
        "outputId": "9701564a-e2f9-4bbf-f2b3-5deb0e1c74c7"
      },
      "source": [
        "movie_review = pd.read_csv(filepath, delimiter='\\t', compression='zip').reset_index(drop=True).dropna()\n",
        "movie_review.info()"
      ],
      "execution_count": null,
      "outputs": [
        {
          "output_type": "stream",
          "text": [
            "<class 'pandas.core.frame.DataFrame'>\n",
            "Int64Index: 50000 entries, 0 to 49999\n",
            "Data columns (total 2 columns):\n",
            " #   Column     Non-Null Count  Dtype \n",
            "---  ------     --------------  ----- \n",
            " 0   review     50000 non-null  object\n",
            " 1   sentiment  50000 non-null  object\n",
            "dtypes: object(2)\n",
            "memory usage: 1.1+ MB\n"
          ],
          "name": "stdout"
        }
      ]
    },
    {
      "cell_type": "code",
      "metadata": {
        "colab": {
          "base_uri": "https://localhost:8080/",
          "height": 198
        },
        "id": "qvxiQC8pZ36w",
        "outputId": "4d0f289e-5e03-4753-b082-1d86c8dd8fa4"
      },
      "source": [
        "movie_review.head()"
      ],
      "execution_count": null,
      "outputs": [
        {
          "output_type": "execute_result",
          "data": {
            "text/html": [
              "<div>\n",
              "<style scoped>\n",
              "    .dataframe tbody tr th:only-of-type {\n",
              "        vertical-align: middle;\n",
              "    }\n",
              "\n",
              "    .dataframe tbody tr th {\n",
              "        vertical-align: top;\n",
              "    }\n",
              "\n",
              "    .dataframe thead th {\n",
              "        text-align: right;\n",
              "    }\n",
              "</style>\n",
              "<table border=\"1\" class=\"dataframe\">\n",
              "  <thead>\n",
              "    <tr style=\"text-align: right;\">\n",
              "      <th></th>\n",
              "      <th>review</th>\n",
              "      <th>sentiment</th>\n",
              "    </tr>\n",
              "  </thead>\n",
              "  <tbody>\n",
              "    <tr>\n",
              "      <th>0</th>\n",
              "      <td>One of the other reviewers has mentioned that ...</td>\n",
              "      <td>positive</td>\n",
              "    </tr>\n",
              "    <tr>\n",
              "      <th>1</th>\n",
              "      <td>A wonderful little production. &lt;br /&gt;&lt;br /&gt;The...</td>\n",
              "      <td>positive</td>\n",
              "    </tr>\n",
              "    <tr>\n",
              "      <th>2</th>\n",
              "      <td>I thought this was a wonderful way to spend ti...</td>\n",
              "      <td>positive</td>\n",
              "    </tr>\n",
              "    <tr>\n",
              "      <th>3</th>\n",
              "      <td>Basically there's a family where a little boy ...</td>\n",
              "      <td>negative</td>\n",
              "    </tr>\n",
              "    <tr>\n",
              "      <th>4</th>\n",
              "      <td>Petter Mattei's \"Love in the Time of Money\" is...</td>\n",
              "      <td>positive</td>\n",
              "    </tr>\n",
              "  </tbody>\n",
              "</table>\n",
              "</div>"
            ],
            "text/plain": [
              "                                              review sentiment\n",
              "0  One of the other reviewers has mentioned that ...  positive\n",
              "1  A wonderful little production. <br /><br />The...  positive\n",
              "2  I thought this was a wonderful way to spend ti...  positive\n",
              "3  Basically there's a family where a little boy ...  negative\n",
              "4  Petter Mattei's \"Love in the Time of Money\" is...  positive"
            ]
          },
          "metadata": {
            "tags": []
          },
          "execution_count": 27
        }
      ]
    },
    {
      "cell_type": "code",
      "metadata": {
        "id": "R01r1wj8a-OV"
      },
      "source": [
        "movie_review['label'] = [0 if sentiment=='negative' else 1 for sentiment in movie_review['sentiment']]"
      ],
      "execution_count": null,
      "outputs": []
    },
    {
      "cell_type": "code",
      "metadata": {
        "colab": {
          "base_uri": "https://localhost:8080/",
          "height": 198
        },
        "id": "cCfS4sNrbVOk",
        "outputId": "c3eebc6f-7b70-47df-b325-bb3c5844f43d"
      },
      "source": [
        "movie_review.head()"
      ],
      "execution_count": null,
      "outputs": [
        {
          "output_type": "execute_result",
          "data": {
            "text/html": [
              "<div>\n",
              "<style scoped>\n",
              "    .dataframe tbody tr th:only-of-type {\n",
              "        vertical-align: middle;\n",
              "    }\n",
              "\n",
              "    .dataframe tbody tr th {\n",
              "        vertical-align: top;\n",
              "    }\n",
              "\n",
              "    .dataframe thead th {\n",
              "        text-align: right;\n",
              "    }\n",
              "</style>\n",
              "<table border=\"1\" class=\"dataframe\">\n",
              "  <thead>\n",
              "    <tr style=\"text-align: right;\">\n",
              "      <th></th>\n",
              "      <th>review</th>\n",
              "      <th>sentiment</th>\n",
              "      <th>label</th>\n",
              "    </tr>\n",
              "  </thead>\n",
              "  <tbody>\n",
              "    <tr>\n",
              "      <th>0</th>\n",
              "      <td>One of the other reviewers has mentioned that ...</td>\n",
              "      <td>positive</td>\n",
              "      <td>1</td>\n",
              "    </tr>\n",
              "    <tr>\n",
              "      <th>1</th>\n",
              "      <td>A wonderful little production. &lt;br /&gt;&lt;br /&gt;The...</td>\n",
              "      <td>positive</td>\n",
              "      <td>1</td>\n",
              "    </tr>\n",
              "    <tr>\n",
              "      <th>2</th>\n",
              "      <td>I thought this was a wonderful way to spend ti...</td>\n",
              "      <td>positive</td>\n",
              "      <td>1</td>\n",
              "    </tr>\n",
              "    <tr>\n",
              "      <th>3</th>\n",
              "      <td>Basically there's a family where a little boy ...</td>\n",
              "      <td>negative</td>\n",
              "      <td>0</td>\n",
              "    </tr>\n",
              "    <tr>\n",
              "      <th>4</th>\n",
              "      <td>Petter Mattei's \"Love in the Time of Money\" is...</td>\n",
              "      <td>positive</td>\n",
              "      <td>1</td>\n",
              "    </tr>\n",
              "  </tbody>\n",
              "</table>\n",
              "</div>"
            ],
            "text/plain": [
              "                                              review sentiment  label\n",
              "0  One of the other reviewers has mentioned that ...  positive      1\n",
              "1  A wonderful little production. <br /><br />The...  positive      1\n",
              "2  I thought this was a wonderful way to spend ti...  positive      1\n",
              "3  Basically there's a family where a little boy ...  negative      0\n",
              "4  Petter Mattei's \"Love in the Time of Money\" is...  positive      1"
            ]
          },
          "metadata": {
            "tags": []
          },
          "execution_count": 29
        }
      ]
    },
    {
      "cell_type": "markdown",
      "metadata": {
        "id": "c2hU8IShaDhH"
      },
      "source": [
        "\n",
        "\n",
        "*   긍정 리뷰와 부정 리뷰 비율 확인(다를 경우, 클래스 불균형 문제 발생)\n",
        "\n"
      ]
    },
    {
      "cell_type": "code",
      "metadata": {
        "colab": {
          "base_uri": "https://localhost:8080/",
          "height": 108
        },
        "id": "ZdZm09KfaA9x",
        "outputId": "9707aa1a-77c6-477c-94c2-97a94e05eafc"
      },
      "source": [
        "pd.DataFrame(movie_review['label'].value_counts(normalize=True))"
      ],
      "execution_count": null,
      "outputs": [
        {
          "output_type": "execute_result",
          "data": {
            "text/html": [
              "<div>\n",
              "<style scoped>\n",
              "    .dataframe tbody tr th:only-of-type {\n",
              "        vertical-align: middle;\n",
              "    }\n",
              "\n",
              "    .dataframe tbody tr th {\n",
              "        vertical-align: top;\n",
              "    }\n",
              "\n",
              "    .dataframe thead th {\n",
              "        text-align: right;\n",
              "    }\n",
              "</style>\n",
              "<table border=\"1\" class=\"dataframe\">\n",
              "  <thead>\n",
              "    <tr style=\"text-align: right;\">\n",
              "      <th></th>\n",
              "      <th>label</th>\n",
              "    </tr>\n",
              "  </thead>\n",
              "  <tbody>\n",
              "    <tr>\n",
              "      <th>1</th>\n",
              "      <td>0.5</td>\n",
              "    </tr>\n",
              "    <tr>\n",
              "      <th>0</th>\n",
              "      <td>0.5</td>\n",
              "    </tr>\n",
              "  </tbody>\n",
              "</table>\n",
              "</div>"
            ],
            "text/plain": [
              "   label\n",
              "1    0.5\n",
              "0    0.5"
            ]
          },
          "metadata": {
            "tags": []
          },
          "execution_count": 30
        }
      ]
    },
    {
      "cell_type": "markdown",
      "metadata": {
        "id": "Or_32tBWb1x9"
      },
      "source": [
        "#Data preprocessing"
      ]
    },
    {
      "cell_type": "markdown",
      "metadata": {
        "id": "0qDLcJPfb-NN"
      },
      "source": [
        "\n",
        "\n",
        "*   영어 전처리\n",
        "\n"
      ]
    },
    {
      "cell_type": "code",
      "metadata": {
        "id": "MopLkf6ebu_3"
      },
      "source": [
        "! pip install contractions\n",
        "import re\n",
        "import contractions"
      ],
      "execution_count": null,
      "outputs": []
    },
    {
      "cell_type": "code",
      "metadata": {
        "id": "TFJQNACWcGrm"
      },
      "source": [
        "def text_clean(text):\n",
        "    \n",
        "    text = contractions.fix(text) #he's -> he is\n",
        "    text = re.sub('<br />',\" \",text)  \n",
        "    text = re.sub('https?:/\\/\\S+', ' ', text) # remove urls\n",
        "    text = re.sub('[0-9]+', ' ', text) # remove numbers\n",
        "    text = re.sub('[-=+,#/\\?:^$.@*\\\"※~&%ㆍ!』\\\\‘|\\(\\)\\[\\]\\<\\>`\\…》]+', ' ', text) # remove all symbols and punctuation except for . , ! and ?\n",
        "    text = re.sub(\"'\",\" \", text)\n",
        "    text = re.sub('\\s+', ' ', text) # 중복 띄어쓰기 삭제\n",
        "\n",
        "    text = text.lower() # 소문자\n",
        "    return text.strip() #앞뒤 문장 공백 제거"
      ],
      "execution_count": null,
      "outputs": []
    },
    {
      "cell_type": "markdown",
      "metadata": {
        "id": "rztGZc0OcUOZ"
      },
      "source": [
        "\n",
        "\n",
        "*   레마타이징: 문장을 사전에 등록된 단어 형태로 쪼개 줌\n",
        "\n",
        "\n",
        "\n",
        "\n",
        "\n",
        "\n",
        "\n"
      ]
    },
    {
      "cell_type": "code",
      "metadata": {
        "id": "2a5ZNWkJcwis"
      },
      "source": [
        "#spacy\n",
        "import spacy\n",
        "import en_core_web_sm #버전\n",
        "from spacy.lang.en import English\n",
        "from tqdm import tqdm\n",
        "\n",
        "# https://spacy.io/usage"
      ],
      "execution_count": null,
      "outputs": []
    },
    {
      "cell_type": "code",
      "metadata": {
        "id": "3l2ADOo7dUaU"
      },
      "source": [
        "nlp = spacy.load('en_core_web_sm', disable=['parser', 'ner']) \n",
        "spacy_stopwords=spacy.lang.en.stop_words.STOP_WORDS"
      ],
      "execution_count": null,
      "outputs": []
    },
    {
      "cell_type": "code",
      "metadata": {
        "id": "_R0IpM2ZdWWR"
      },
      "source": [
        "def spacy_lemma(text):\n",
        "    text = text_clean(sentence)\n",
        "    text=nlp(text)\n",
        "    temp=[token.lemma_ for token in text if token.lemma_ not in ['-PRON-'] + list(spacy_stopwords)] #lemmatize한 단어가 대명사가 아니거나 불용어가 아닐 경우 추가\n",
        "    \n",
        "    #return \" \".join(temp)\n",
        "    return temp"
      ],
      "execution_count": null,
      "outputs": []
    },
    {
      "cell_type": "markdown",
      "metadata": {
        "id": "WiZ72enuaOeA"
      },
      "source": [
        "#Split dataset"
      ]
    },
    {
      "cell_type": "code",
      "metadata": {
        "id": "6domUoIIaRBX"
      },
      "source": [
        "#DataFrame -> list\n",
        "data = movie_review['review'].values.tolist()\n",
        "target = movie_review['label'].values.tolist()"
      ],
      "execution_count": null,
      "outputs": []
    },
    {
      "cell_type": "code",
      "metadata": {
        "colab": {
          "base_uri": "https://localhost:8080/"
        },
        "id": "f5_nPk_taWfw",
        "outputId": "d8d1222b-8a79-4920-9450-99f0a68d516f"
      },
      "source": [
        "print(data[0], target[0])"
      ],
      "execution_count": null,
      "outputs": [
        {
          "output_type": "stream",
          "text": [
            "One of the other reviewers has mentioned that after watching just 1 Oz episode you'll be hooked. They are right, as this is exactly what happened with me.<br /><br />The first thing that struck me about Oz was its brutality and unflinching scenes of violence, which set in right from the word GO. Trust me, this is not a show for the faint hearted or timid. This show pulls no punches with regards to drugs, sex or violence. Its is hardcore, in the classic use of the word.<br /><br />It is called OZ as that is the nickname given to the Oswald Maximum Security State Penitentary. It focuses mainly on Emerald City, an experimental section of the prison where all the cells have glass fronts and face inwards, so privacy is not high on the agenda. Em City is home to many..Aryans, Muslims, gangstas, Latinos, Christians, Italians, Irish and more....so scuffles, death stares, dodgy dealings and shady agreements are never far away.<br /><br />I would say the main appeal of the show is due to the fact that it goes where other shows wouldn't dare. Forget pretty pictures painted for mainstream audiences, forget charm, forget romance...OZ doesn't mess around. The first episode I ever saw struck me as so nasty it was surreal, I couldn't say I was ready for it, but as I watched more, I developed a taste for Oz, and got accustomed to the high levels of graphic violence. Not just violence, but injustice (crooked guards who'll be sold out for a nickel, inmates who'll kill on order and get away with it, well mannered, middle class inmates being turned into prison bitches due to their lack of street skills or prison experience) Watching Oz, you may become comfortable with what is uncomfortable viewing....thats if you can get in touch with your darker side. 1\n"
          ],
          "name": "stdout"
        }
      ]
    },
    {
      "cell_type": "code",
      "metadata": {
        "id": "NlDkLMAPtFry"
      },
      "source": [
        "data = [text_clean(text) for text in data]"
      ],
      "execution_count": null,
      "outputs": []
    },
    {
      "cell_type": "code",
      "metadata": {
        "colab": {
          "base_uri": "https://localhost:8080/"
        },
        "id": "hclLFvOUtMCU",
        "outputId": "33334328-ca92-4271-9309-04f43d14af50"
      },
      "source": [
        "print(data[0], target[0])"
      ],
      "execution_count": null,
      "outputs": [
        {
          "output_type": "stream",
          "text": [
            "one of the other reviewers has mentioned that after watching just oz episode you will be hooked they are right as this is exactly what happened with me the first thing that struck me about oz was its brutality and unflinching scenes of violence which set in right from the word go trust me this is not a show for the faint hearted or timid this show pulls no punches with regards to drugs sex or violence its is hardcore in the classic use of the word it is called oz as that is the nickname given to the oswald maximum security state penitentary it focuses mainly on emerald city an experimental section of the prison where all the cells have glass fronts and face inwards so privacy is not high on the agenda them city is home to many aryans muslims gangstas latinos christians italians irish and more so scuffles death stares dodgy dealings and shady agreements are never far away i would say the main appeal of the show is due to the fact that it goes where other shows would not dare forget pretty pictures painted for mainstream audiences forget charm forget romance oz does not mess around the first episode i ever saw struck me as so nasty it was surreal i could not say i was ready for it but as i watched more i developed a taste for oz and got accustomed to the high levels of graphic violence not just violence but injustice crooked guards who will be sold out for a nickel inmates who will kill on order and get away with it well mannered middle class inmates being turned into prison bitches due to their lack of street skills or prison experience watching oz you may become comfortable with what is uncomfortable viewing that is if you can get in touch with your darker side 1\n"
          ],
          "name": "stdout"
        }
      ]
    },
    {
      "cell_type": "code",
      "metadata": {
        "id": "TGCIH9O6aYYT"
      },
      "source": [
        "from sklearn.model_selection import train_test_split\n",
        "X_train, X_test, y_train, y_test = train_test_split(data, target, \n",
        "                                                    test_size=0.2, \n",
        "                                                    random_state=random_seed)"
      ],
      "execution_count": null,
      "outputs": []
    },
    {
      "cell_type": "code",
      "metadata": {
        "colab": {
          "base_uri": "https://localhost:8080/"
        },
        "id": "WFW9myZpbraC",
        "outputId": "314bd6b3-8c94-412f-934d-34b9837c925b"
      },
      "source": [
        "len(y_train)"
      ],
      "execution_count": null,
      "outputs": [
        {
          "output_type": "execute_result",
          "data": {
            "text/plain": [
              "40000"
            ]
          },
          "metadata": {
            "tags": []
          },
          "execution_count": 37
        }
      ]
    },
    {
      "cell_type": "code",
      "metadata": {
        "colab": {
          "base_uri": "https://localhost:8080/"
        },
        "id": "5zCk3s38bsu4",
        "outputId": "2ea68cdd-581e-4068-b5f0-8532cf4879f0"
      },
      "source": [
        "len(y_test)"
      ],
      "execution_count": null,
      "outputs": [
        {
          "output_type": "execute_result",
          "data": {
            "text/plain": [
              "10000"
            ]
          },
          "metadata": {
            "tags": []
          },
          "execution_count": 38
        }
      ]
    },
    {
      "cell_type": "markdown",
      "metadata": {
        "id": "W3mN-ET7dk7F"
      },
      "source": [
        "# Word Vectorizer"
      ]
    },
    {
      "cell_type": "code",
      "metadata": {
        "id": "9Vc7cYN8dYpz"
      },
      "source": [
        "from sklearn.feature_extraction.text import CountVectorizer\n",
        "\n",
        "#Counter Vectorization으로 피처 벡터화 수행\n",
        "#CountVectorizer의 파라미터 설명\n",
        "#lowercase: 대문자를 소문자로 변환(한글 데이터는 필요없음)\n",
        "#preprocessor: 전처리 함수\n",
        "#tokenizer: 문장을 형태소 단위로 변환\n",
        "#min_df: 최소 5번 이상 등장하는 단어만 고려\n",
        "#max_features: 최대 1600개 단어만 고려\n",
        "#cnt_vect = CountVectorizer(lowercase=True, preprocessor = text_clean, tokenizer = spacy_lemma, min_df=5, max_features=100)\n",
        "cnt_vect = CountVectorizer(lowercase=True, min_df=5, max_features=1600)\n",
        "cnt_vect.fit(X_train)\n",
        "\n",
        "X_train_cnt_vect = cnt_vect.transform(X_train)\n",
        "\n",
        "#  학습 데이터로 fit()된 Vectorizer를 이용해 테스트 데이터를 피처 벡터화 변환 수행\n",
        "X_test_cnt_vect = cnt_vect.transform(X_test)"
      ],
      "execution_count": null,
      "outputs": []
    },
    {
      "cell_type": "code",
      "metadata": {
        "colab": {
          "base_uri": "https://localhost:8080/"
        },
        "id": "EDtyrMzle6bW",
        "outputId": "dcadaf9d-f659-4c17-9eef-d08486305efb"
      },
      "source": [
        "print(X_train_cnt_vect.shape)"
      ],
      "execution_count": null,
      "outputs": [
        {
          "output_type": "stream",
          "text": [
            "(40000, 1600)\n"
          ],
          "name": "stdout"
        }
      ]
    },
    {
      "cell_type": "code",
      "metadata": {
        "id": "8Qn2HNCee8aS"
      },
      "source": [
        "from sklearn.feature_extraction.text import TfidfVectorizer\n",
        "\n",
        "# X_train\n",
        "#tfidf_vect = TfidfVectorizer(lowercase=True, preprocessor = my_preprocessor,  tokenizer = spacy_lemma, min_df=5, max_features=1600)\n",
        "tfidf_vect = TfidfVectorizer(lowercase=True, min_df=5, max_features=1600)\n",
        "\n",
        "tfidf_vect.fit(X_train)\n",
        "X_train_tfidf_vect = tfidf_vect.transform(X_train)\n",
        "\n",
        "# X_test\n",
        "X_test_tfidf_vect = tfidf_vect.transform(X_test)"
      ],
      "execution_count": null,
      "outputs": []
    },
    {
      "cell_type": "code",
      "metadata": {
        "colab": {
          "base_uri": "https://localhost:8080/"
        },
        "id": "EP-DKy3I3tAo",
        "outputId": "9d8ad9d2-4780-4d99-8684-bde42ac4135d"
      },
      "source": [
        "print(X_train_tfidf_vect.shape)"
      ],
      "execution_count": null,
      "outputs": [
        {
          "output_type": "stream",
          "text": [
            "(40000, 1600)\n"
          ],
          "name": "stdout"
        }
      ]
    },
    {
      "cell_type": "markdown",
      "metadata": {
        "id": "AKWaDS_Rtk_2"
      },
      "source": [
        "### [+] 특성값이 높은 단어 확인"
      ]
    },
    {
      "cell_type": "code",
      "metadata": {
        "colab": {
          "base_uri": "https://localhost:8080/"
        },
        "id": "rsWSypI4tjQE",
        "outputId": "ed9b13cb-def7-47f3-a735-11eb7460a7b0"
      },
      "source": [
        "max_value = X_train_cnt_vect.max(axis=0).toarray().ravel()\n",
        "sorted_value = max_value.argsort()\n",
        "feature_names = np.array(cnt_vect.get_feature_names())\n",
        "feature_names[sorted_value[-100:]]"
      ],
      "execution_count": null,
      "outputs": [
        {
          "output_type": "execute_result",
          "data": {
            "text/plain": [
              "array(['following', 'machine', 'him', 'la', 'at', 'character', 'radio',\n",
              "       'rock', 'your', 'would', 'woman', 'ray', 'buddy', 'by', 'bed',\n",
              "       'story', 'never', 'lee', 'war', 'gay', 'dream', 'has', 'best',\n",
              "       'one', 'robert', 'its', 'life', 'stewart', 'who', 'novel',\n",
              "       'jackson', 'films', 'love', 'post', 'ben', 'will', 'have',\n",
              "       'something', 'time', 'tone', 'game', 'for', 'children', 'season',\n",
              "       'more', 'kelly', 'episode', 'an', 'harry', 'mary', 'when',\n",
              "       'batman', 'series', 'first', 'my', 'master', 'james', 'stop',\n",
              "       'joe', 'jokes', 'heart', 'are', 'charlie', 'mad', 'full',\n",
              "       'greatest', 'jane', 'show', 'steve', 'ever', 'but', 'with', 'they',\n",
              "       'jason', 'bond', 'zombie', 'as', 'film', 'not', 'guy', 'movie',\n",
              "       'sam', 'this', 'like', 'match', 'was', 'you', 'tony', 'she', 'her',\n",
              "       'his', 'it', 'he', 'in', 'that', 'to', 'of', 'is', 'and', 'the'],\n",
              "      dtype='<U14')"
            ]
          },
          "metadata": {
            "tags": []
          },
          "execution_count": 73
        }
      ]
    },
    {
      "cell_type": "code",
      "metadata": {
        "colab": {
          "base_uri": "https://localhost:8080/"
        },
        "id": "GEXu6Dqyt4zz",
        "outputId": "43d39371-fc37-4b0f-9dde-568bf499178d"
      },
      "source": [
        "max_value = X_train_tfidf_vect.max(axis=0).toarray().ravel()\n",
        "sorted_value = max_value.argsort()\n",
        "feature_names = np.array(tfidf_vect.get_feature_names())\n",
        "feature_names[sorted_value[-100:]]"
      ],
      "execution_count": null,
      "outputs": [
        {
          "output_type": "execute_result",
          "data": {
            "text/plain": [
              "array(['king', 'gay', 'professional', 'hitchcock', 'acts', 'avoid',\n",
              "       'german', 'band', 'no', 'bill', 'worse', 'season', 'terrible',\n",
              "       'the', 'dancing', 'water', 'plenty', 'christian', 'car', 'hotel',\n",
              "       'release', 'high', 'she', 'scott', 'cartoon', 'lame', 'guy',\n",
              "       'jane', 'wall', 'indian', 'christopher', 'count', 'age', 'tone',\n",
              "       'harry', 'song', 'college', 'opera', 'mark', 'disney', 'noir',\n",
              "       'japanese', 'computer', 'hospital', 'version', 'heart', 'david',\n",
              "       'jason', 'grace', 'henry', 'joe', 'kelly', 'tom', 'hot', 'dull',\n",
              "       'think', 'view', 'cop', 'bond', 'tony', 'games', 'documentary',\n",
              "       'pretty', 'sex', 'giant', 'wow', 'smith', 'wars', 'three',\n",
              "       'zombie', 'cat', 'vs', 'ben', 'love', 'match', 'bed', 'stewart',\n",
              "       'awful', 'check', 'ray', 'zombies', 'beautifully', 'charlie',\n",
              "       'stupid', 'sam', 'mary', 'talk', 'game', 'and', 'batman',\n",
              "       'martial', 'bruce', 'episode', 'master', 'buddy', 'bad', 'jokes',\n",
              "       'horrible', 'steve', 'island'], dtype='<U14')"
            ]
          },
          "metadata": {
            "tags": []
          },
          "execution_count": 74
        }
      ]
    },
    {
      "cell_type": "markdown",
      "metadata": {
        "id": "6MKvXg9-oDP9"
      },
      "source": [
        "#Evaluation"
      ]
    },
    {
      "cell_type": "code",
      "metadata": {
        "id": "uGhW9ya8n_0B"
      },
      "source": [
        "from sklearn.metrics import confusion_matrix, classification_report #전체 레이블에 대해서\n",
        "from sklearn.metrics import accuracy_score, precision_score, recall_score, f1_score, roc_auc_score #각 레이블에 대해서"
      ],
      "execution_count": null,
      "outputs": []
    },
    {
      "cell_type": "code",
      "metadata": {
        "id": "ZT3iA622oJTx"
      },
      "source": [
        "def evaluation_report(y_test, pred, is_return=True):\n",
        "        from sklearn.metrics import accuracy_score, precision_score, recall_score, f1_score, roc_auc_score\n",
        "        acc = accuracy_score(y_test, pred) \n",
        "        pre=precision_score(y_test, pred)\n",
        "        recall = recall_score(y_test, pred)\n",
        "        f1 = f1_score(y_test, pred)\n",
        "        auc = roc_auc_score(y_test, pred)\n",
        "        for name, value in zip(['accuracy_score', 'precision_score', 'recall_score', 'f1_score', 'roc_auc_score'], [acc, pre, recall, f1, auc]):\n",
        "            print('{name} = {value:.2f}'.format(name=name, value=value), end='\\t')"
      ],
      "execution_count": null,
      "outputs": []
    },
    {
      "cell_type": "markdown",
      "source": [
        "# Example Model: Logistic Regression"
      ],
      "metadata": {
        "id": "8CtqK230Lr7g"
      }
    },
    {
      "cell_type": "code",
      "metadata": {
        "id": "P1h2qQHQoNWR"
      },
      "source": [
        "from sklearn.linear_model import LogisticRegression\n",
        "\n",
        "lr_clf = LogisticRegression(max_iter = 200, n_jobs=-1)\n",
        "lr_clf.fit(X_train_cnt_vect, y_train)\n",
        "pred = lr_clf.predict(X_test_cnt_vect)"
      ],
      "execution_count": null,
      "outputs": []
    },
    {
      "cell_type": "code",
      "metadata": {
        "colab": {
          "base_uri": "https://localhost:8080/"
        },
        "id": "BIE7Ts6JoPb7",
        "outputId": "a95fbe14-4170-438f-fe14-63bfddd3c22d"
      },
      "source": [
        "evaluation_report(y_test, pred)"
      ],
      "execution_count": null,
      "outputs": [
        {
          "output_type": "stream",
          "text": [
            "accuracy_score = 0.88\tprecision_score = 0.88\trecall_score = 0.89\tf1_score = 0.88\troc_auc_score = 0.88\t"
          ],
          "name": "stdout"
        }
      ]
    },
    {
      "cell_type": "code",
      "metadata": {
        "colab": {
          "base_uri": "https://localhost:8080/"
        },
        "id": "9oL0RbkCoQyS",
        "outputId": "a660cc54-0f84-43d3-90fa-b8598b34923d"
      },
      "source": [
        "print(classification_report(y_test, pred))"
      ],
      "execution_count": null,
      "outputs": [
        {
          "output_type": "stream",
          "text": [
            "              precision    recall  f1-score   support\n",
            "\n",
            "           0       0.89      0.87      0.88      4993\n",
            "           1       0.88      0.89      0.88      5007\n",
            "\n",
            "    accuracy                           0.88     10000\n",
            "   macro avg       0.88      0.88      0.88     10000\n",
            "weighted avg       0.88      0.88      0.88     10000\n",
            "\n"
          ],
          "name": "stdout"
        }
      ]
    },
    {
      "cell_type": "code",
      "metadata": {
        "id": "HXpimlHroV3Y"
      },
      "source": [
        "lr_clf = LogisticRegression(max_iter = 200, n_jobs=-1)\n",
        "lr_clf.fit(X_train_tfidf_vect, y_train)\n",
        "pred = lr_clf.predict(X_test_tfidf_vect)"
      ],
      "execution_count": null,
      "outputs": []
    },
    {
      "cell_type": "code",
      "metadata": {
        "colab": {
          "base_uri": "https://localhost:8080/"
        },
        "id": "1OWQuRJ0oWPS",
        "outputId": "1eb7e33a-0f84-4044-fc56-87d29f09d885"
      },
      "source": [
        "evaluation_report(y_test, pred)"
      ],
      "execution_count": null,
      "outputs": [
        {
          "output_type": "stream",
          "text": [
            "accuracy_score = 0.89\tprecision_score = 0.88\trecall_score = 0.89\tf1_score = 0.89\troc_auc_score = 0.89\t"
          ],
          "name": "stdout"
        }
      ]
    },
    {
      "cell_type": "code",
      "metadata": {
        "colab": {
          "base_uri": "https://localhost:8080/"
        },
        "id": "VsuVHkvzoY9u",
        "outputId": "b972d618-bbcc-4e8f-efbd-325f1d8e964f"
      },
      "source": [
        "print(classification_report(y_test, pred))"
      ],
      "execution_count": null,
      "outputs": [
        {
          "output_type": "stream",
          "text": [
            "              precision    recall  f1-score   support\n",
            "\n",
            "           0       0.89      0.88      0.88      4993\n",
            "           1       0.88      0.89      0.89      5007\n",
            "\n",
            "    accuracy                           0.89     10000\n",
            "   macro avg       0.89      0.89      0.89     10000\n",
            "weighted avg       0.89      0.89      0.89     10000\n",
            "\n"
          ],
          "name": "stdout"
        }
      ]
    },
    {
      "cell_type": "markdown",
      "metadata": {
        "id": "2YXxAvNrn9Ve"
      },
      "source": [
        "#Model Selection"
      ]
    },
    {
      "cell_type": "code",
      "metadata": {
        "id": "dCNTHmmeocFV"
      },
      "source": [
        "def model_selection(X_train, y_train, kfold=3):\n",
        "    from sklearn.linear_model import LogisticRegression\n",
        "    from sklearn.ensemble import RandomForestClassifier\n",
        "    from sklearn.svm import LinearSVC\n",
        "    from xgboost import XGBClassifier\n",
        "    from sklearn.model_selection import cross_val_score\n",
        "    from tqdm.notebook import tqdm\n",
        "\n",
        "    models = [\n",
        "        LogisticRegression(),\n",
        "        XGBClassifier(random_state=random_seed),\n",
        "        LinearSVC(),\n",
        "    ]\n",
        "    \n",
        "    progress_bar = tqdm(total = len(models) * kfold)\n",
        "    \n",
        "    entries = []\n",
        "    for model in models:\n",
        "        model_name = model.__class__.__name__\n",
        "        accuracies = cross_val_score(model, X_train, y_train, \n",
        "                        scoring='accuracy', cv=kfold, n_jobs=-1)\n",
        "        #하나의 모델 당 총 3개의 accuracy값을 가지고 있는 리스트가 생성(kfold=3)\n",
        "        for fold_idx, accuracy in enumerate(accuracies):\n",
        "            progress_bar.update()\n",
        "            entries.append((model_name, fold_idx, accuracy))\n",
        "    \n",
        "    progress_bar.close()\n",
        "    \n",
        "    cv_result = pd.DataFrame(entries, columns=['model_name', 'fold_idx', 'accuracy'], index=range(kfold * len(models)))\n",
        "    return cv_result"
      ],
      "execution_count": null,
      "outputs": []
    },
    {
      "cell_type": "code",
      "metadata": {
        "colab": {
          "base_uri": "https://localhost:8080/",
          "height": 67,
          "referenced_widgets": [
            "6e8ff83a89a9413983c2ee9de28b255d",
            "7f4f328f406e44c98b09483e67b616c5",
            "9f873f0d1d0444799a46f73c569a1554",
            "97f34b2b83bc4c03a48a832dbea5ab93",
            "e2dc7839b9d74ed89c2cf324bfd1669b",
            "7ca838d75158445c92412a88e416a51d",
            "617b33d47148496bbd5d3fc21651ec83",
            "25091b91ddb844cca9e9681be7d620c8"
          ]
        },
        "id": "yIL1hI9UoeQY",
        "outputId": "300822a4-2e13-40da-8fc9-2e16babd0a63"
      },
      "source": [
        "model_selection_result = model_selection(X_train_tfidf_vect, y_train)"
      ],
      "execution_count": null,
      "outputs": [
        {
          "output_type": "display_data",
          "data": {
            "application/vnd.jupyter.widget-view+json": {
              "model_id": "6e8ff83a89a9413983c2ee9de28b255d",
              "version_minor": 0,
              "version_major": 2
            },
            "text/plain": [
              "HBox(children=(FloatProgress(value=0.0, max=9.0), HTML(value='')))"
            ]
          },
          "metadata": {
            "tags": []
          }
        },
        {
          "output_type": "stream",
          "text": [
            "\n"
          ],
          "name": "stdout"
        }
      ]
    },
    {
      "cell_type": "code",
      "metadata": {
        "colab": {
          "base_uri": "https://localhost:8080/",
          "height": 318
        },
        "id": "GL_s8pR2ofjH",
        "outputId": "134ab345-3878-49aa-d23f-8c2d57089db1"
      },
      "source": [
        "model_selection_result"
      ],
      "execution_count": null,
      "outputs": [
        {
          "output_type": "execute_result",
          "data": {
            "text/html": [
              "<div>\n",
              "<style scoped>\n",
              "    .dataframe tbody tr th:only-of-type {\n",
              "        vertical-align: middle;\n",
              "    }\n",
              "\n",
              "    .dataframe tbody tr th {\n",
              "        vertical-align: top;\n",
              "    }\n",
              "\n",
              "    .dataframe thead th {\n",
              "        text-align: right;\n",
              "    }\n",
              "</style>\n",
              "<table border=\"1\" class=\"dataframe\">\n",
              "  <thead>\n",
              "    <tr style=\"text-align: right;\">\n",
              "      <th></th>\n",
              "      <th>model_name</th>\n",
              "      <th>fold_idx</th>\n",
              "      <th>accuracy</th>\n",
              "    </tr>\n",
              "  </thead>\n",
              "  <tbody>\n",
              "    <tr>\n",
              "      <th>0</th>\n",
              "      <td>LogisticRegression</td>\n",
              "      <td>0</td>\n",
              "      <td>0.878656</td>\n",
              "    </tr>\n",
              "    <tr>\n",
              "      <th>1</th>\n",
              "      <td>LogisticRegression</td>\n",
              "      <td>1</td>\n",
              "      <td>0.872197</td>\n",
              "    </tr>\n",
              "    <tr>\n",
              "      <th>2</th>\n",
              "      <td>LogisticRegression</td>\n",
              "      <td>2</td>\n",
              "      <td>0.871447</td>\n",
              "    </tr>\n",
              "    <tr>\n",
              "      <th>3</th>\n",
              "      <td>XGBClassifier</td>\n",
              "      <td>0</td>\n",
              "      <td>0.813334</td>\n",
              "    </tr>\n",
              "    <tr>\n",
              "      <th>4</th>\n",
              "      <td>XGBClassifier</td>\n",
              "      <td>1</td>\n",
              "      <td>0.804995</td>\n",
              "    </tr>\n",
              "    <tr>\n",
              "      <th>5</th>\n",
              "      <td>XGBClassifier</td>\n",
              "      <td>2</td>\n",
              "      <td>0.810995</td>\n",
              "    </tr>\n",
              "    <tr>\n",
              "      <th>6</th>\n",
              "      <td>LinearSVC</td>\n",
              "      <td>0</td>\n",
              "      <td>0.876931</td>\n",
              "    </tr>\n",
              "    <tr>\n",
              "      <th>7</th>\n",
              "      <td>LinearSVC</td>\n",
              "      <td>1</td>\n",
              "      <td>0.871447</td>\n",
              "    </tr>\n",
              "    <tr>\n",
              "      <th>8</th>\n",
              "      <td>LinearSVC</td>\n",
              "      <td>2</td>\n",
              "      <td>0.871222</td>\n",
              "    </tr>\n",
              "  </tbody>\n",
              "</table>\n",
              "</div>"
            ],
            "text/plain": [
              "           model_name  fold_idx  accuracy\n",
              "0  LogisticRegression         0  0.878656\n",
              "1  LogisticRegression         1  0.872197\n",
              "2  LogisticRegression         2  0.871447\n",
              "3       XGBClassifier         0  0.813334\n",
              "4       XGBClassifier         1  0.804995\n",
              "5       XGBClassifier         2  0.810995\n",
              "6           LinearSVC         0  0.876931\n",
              "7           LinearSVC         1  0.871447\n",
              "8           LinearSVC         2  0.871222"
            ]
          },
          "metadata": {
            "tags": []
          },
          "execution_count": 85
        }
      ]
    },
    {
      "cell_type": "code",
      "metadata": {
        "colab": {
          "base_uri": "https://localhost:8080/",
          "height": 168
        },
        "id": "HOrtuqt6ogoj",
        "outputId": "d7c228ac-59db-405a-f0e2-a9c79326103c"
      },
      "source": [
        "pd.pivot_table(model_selection_result, values='accuracy', index=['model_name'], aggfunc=np.mean, fill_value=0)"
      ],
      "execution_count": null,
      "outputs": [
        {
          "output_type": "execute_result",
          "data": {
            "text/html": [
              "<div>\n",
              "<style scoped>\n",
              "    .dataframe tbody tr th:only-of-type {\n",
              "        vertical-align: middle;\n",
              "    }\n",
              "\n",
              "    .dataframe tbody tr th {\n",
              "        vertical-align: top;\n",
              "    }\n",
              "\n",
              "    .dataframe thead th {\n",
              "        text-align: right;\n",
              "    }\n",
              "</style>\n",
              "<table border=\"1\" class=\"dataframe\">\n",
              "  <thead>\n",
              "    <tr style=\"text-align: right;\">\n",
              "      <th></th>\n",
              "      <th>accuracy</th>\n",
              "    </tr>\n",
              "    <tr>\n",
              "      <th>model_name</th>\n",
              "      <th></th>\n",
              "    </tr>\n",
              "  </thead>\n",
              "  <tbody>\n",
              "    <tr>\n",
              "      <th>LinearSVC</th>\n",
              "      <td>0.873200</td>\n",
              "    </tr>\n",
              "    <tr>\n",
              "      <th>LogisticRegression</th>\n",
              "      <td>0.874100</td>\n",
              "    </tr>\n",
              "    <tr>\n",
              "      <th>XGBClassifier</th>\n",
              "      <td>0.809775</td>\n",
              "    </tr>\n",
              "  </tbody>\n",
              "</table>\n",
              "</div>"
            ],
            "text/plain": [
              "                    accuracy\n",
              "model_name                  \n",
              "LinearSVC           0.873200\n",
              "LogisticRegression  0.874100\n",
              "XGBClassifier       0.809775"
            ]
          },
          "metadata": {
            "tags": []
          },
          "execution_count": 86
        }
      ]
    },
    {
      "cell_type": "markdown",
      "metadata": {
        "id": "VG9VRvWAomA8"
      },
      "source": [
        "#Hyperparameter Tuning"
      ]
    },
    {
      "cell_type": "code",
      "metadata": {
        "id": "MYp8xj2nokEP",
        "colab": {
          "base_uri": "https://localhost:8080/"
        },
        "outputId": "879b15bb-7846-49a2-bcbd-9c16840ec8f3"
      },
      "source": [
        "from sklearn.model_selection import GridSearchCV\n",
        "from sklearn.linear_model import LogisticRegression\n",
        "lr_clf = LogisticRegression(max_iter=200)\n",
        "params = {'penalty': ['l2', 'l1'],\n",
        "       'C': [0.001, 0.01, 0.1, 1, 5, 10]}\n",
        "\n",
        "grid_lr_clf = GridSearchCV(lr_clf, \n",
        "                           param_grid=params, verbose=1, scoring='accuracy', n_jobs=-1, cv = 3)\n",
        "\n",
        "# eval_metric: 평가 방식. auc = accuracy\n",
        "# eval_set: 평가 데이터셋\n",
        "grid_lr_clf.fit(X_train_tfidf_vect, y_train) "
      ],
      "execution_count": null,
      "outputs": [
        {
          "output_type": "stream",
          "text": [
            "Fitting 3 folds for each of 12 candidates, totalling 36 fits\n"
          ],
          "name": "stdout"
        },
        {
          "output_type": "stream",
          "text": [
            "[Parallel(n_jobs=-1)]: Using backend LokyBackend with 2 concurrent workers.\n",
            "[Parallel(n_jobs=-1)]: Done  36 out of  36 | elapsed:   12.1s finished\n"
          ],
          "name": "stderr"
        },
        {
          "output_type": "execute_result",
          "data": {
            "text/plain": [
              "GridSearchCV(cv=3, error_score=nan,\n",
              "             estimator=LogisticRegression(C=1.0, class_weight=None, dual=False,\n",
              "                                          fit_intercept=True,\n",
              "                                          intercept_scaling=1, l1_ratio=None,\n",
              "                                          max_iter=200, multi_class='auto',\n",
              "                                          n_jobs=None, penalty='l2',\n",
              "                                          random_state=None, solver='lbfgs',\n",
              "                                          tol=0.0001, verbose=0,\n",
              "                                          warm_start=False),\n",
              "             iid='deprecated', n_jobs=-1,\n",
              "             param_grid={'C': [0.001, 0.01, 0.1, 1, 5, 10],\n",
              "                         'penalty': ['l2', 'l1']},\n",
              "             pre_dispatch='2*n_jobs', refit=True, return_train_score=False,\n",
              "             scoring='accuracy', verbose=1)"
            ]
          },
          "metadata": {
            "tags": []
          },
          "execution_count": 87
        }
      ]
    },
    {
      "cell_type": "code",
      "metadata": {
        "id": "JVoxiIJYoqFU",
        "colab": {
          "base_uri": "https://localhost:8080/"
        },
        "outputId": "9e898c47-8119-413f-b67f-6c8db185d41a"
      },
      "source": [
        "#최적 파라미터\n",
        "grid_lr_clf.best_estimator_"
      ],
      "execution_count": null,
      "outputs": [
        {
          "output_type": "execute_result",
          "data": {
            "text/plain": [
              "LogisticRegression(C=5, class_weight=None, dual=False, fit_intercept=True,\n",
              "                   intercept_scaling=1, l1_ratio=None, max_iter=200,\n",
              "                   multi_class='auto', n_jobs=None, penalty='l2',\n",
              "                   random_state=None, solver='lbfgs', tol=0.0001, verbose=0,\n",
              "                   warm_start=False)"
            ]
          },
          "metadata": {
            "tags": []
          },
          "execution_count": 88
        }
      ]
    },
    {
      "cell_type": "code",
      "metadata": {
        "id": "PdjIavVNoqdZ",
        "colab": {
          "base_uri": "https://localhost:8080/"
        },
        "outputId": "abbe6109-481a-4efd-cd53-f172274476d8"
      },
      "source": [
        "#최적 파라미터를 사용한 테스트셋 성능 확인\n",
        "pred = grid_lr_clf.predict(X_test_cnt_vect)\n",
        "evaluation_report(y_test, pred)"
      ],
      "execution_count": null,
      "outputs": [
        {
          "output_type": "stream",
          "text": [
            "accuracy_score = 0.84\tprecision_score = 0.77\trecall_score = 0.95\tf1_score = 0.85\troc_auc_score = 0.84\t"
          ],
          "name": "stdout"
        }
      ]
    },
    {
      "cell_type": "code",
      "metadata": {
        "id": "XIOTnQHcorsu",
        "colab": {
          "base_uri": "https://localhost:8080/"
        },
        "outputId": "92360ea7-1ffc-4447-f777-7f78ece6dc04"
      },
      "source": [
        "print(classification_report(y_test, pred))"
      ],
      "execution_count": null,
      "outputs": [
        {
          "output_type": "stream",
          "text": [
            "              precision    recall  f1-score   support\n",
            "\n",
            "           0       0.94      0.72      0.81      4993\n",
            "           1       0.77      0.95      0.85      5007\n",
            "\n",
            "    accuracy                           0.84     10000\n",
            "   macro avg       0.85      0.84      0.83     10000\n",
            "weighted avg       0.85      0.84      0.83     10000\n",
            "\n"
          ],
          "name": "stdout"
        }
      ]
    }
  ]
}